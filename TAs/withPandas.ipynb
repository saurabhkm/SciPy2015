{
 "cells": [
  {
   "cell_type": "markdown",
   "metadata": {},
   "source": [
    "# Doing things the Pandas Way!!!"
   ]
  },
  {
   "cell_type": "markdown",
   "metadata": {},
   "source": [
    "## Problem at hand."
   ]
  },
  {
   "cell_type": "markdown",
   "metadata": {},
   "source": [
    "Consider a set of courses running in a department of an Institute.\n",
    "The courses require a certain number of teaching assistants(TAs) for each of them.\n",
    "The Students are asked for their preferences as to which course they would like to be a TA for. How to allot courses to the students optimally?"
   ]
  },
  {
   "cell_type": "markdown",
   "metadata": {},
   "source": [
    "### Scenario"
   ]
  },
  {
   "cell_type": "markdown",
   "metadata": {},
   "source": [
    "Each course is asked for their TA requirements and each student on the other hand is asked to give 3 choices from the available courses which will be offered in the coming semester.\n",
    "\n",
    "Constraints:\n",
    "- Each student can be allotted to only one course\n",
    "- A course can only be alloted a fixed number of TAs."
   ]
  },
  {
   "cell_type": "markdown",
   "metadata": {},
   "source": [
    "### Data available"
   ]
  },
  {
   "cell_type": "markdown",
   "metadata": {},
   "source": [
    "We have available 2 files:\n",
    "- One which contains a list of students along with their choices for the course they would like to TA for.\n",
    "- The second file has a list of courses and the number of TAs requires for each of the courses."
   ]
  },
  {
   "cell_type": "markdown",
   "metadata": {},
   "source": [
    "### Lets Play!\n",
    "Lets read in the data available.\n",
    "\n",
    "Pandas make it very easy to read in CSV files into objects called 'DataFrames'."
   ]
  },
  {
   "cell_type": "code",
   "execution_count": 4,
   "metadata": {
    "collapsed": false
   },
   "outputs": [],
   "source": [
    "# Import Pandas\n",
    "import pandas as pd\n",
    "# Reading in the students data.\n",
    "studentsDF = pd.read_csv('taPrefs.csv')"
   ]
  },
  {
   "cell_type": "markdown",
   "metadata": {},
   "source": [
    "THATS IT! \n",
    "\n",
    "Remember the function we wrote while dealing with lists. Duh!"
   ]
  },
  {
   "cell_type": "markdown",
   "metadata": {},
   "source": [
    "#### Viewing the data"
   ]
  },
  {
   "cell_type": "code",
   "execution_count": 3,
   "metadata": {
    "collapsed": false
   },
   "outputs": [
    {
     "data": {
      "text/html": [
       "<div>\n",
       "<table border=\"1\" class=\"dataframe\">\n",
       "  <thead>\n",
       "    <tr style=\"text-align: right;\">\n",
       "      <th></th>\n",
       "      <th>RollNo</th>\n",
       "      <th>Name</th>\n",
       "      <th>Choice1</th>\n",
       "      <th>Choice2</th>\n",
       "      <th>Choice3</th>\n",
       "      <th>Specialization</th>\n",
       "    </tr>\n",
       "  </thead>\n",
       "  <tbody>\n",
       "    <tr>\n",
       "      <th>0</th>\n",
       "      <td>134070022</td>\n",
       "      <td>Harsha</td>\n",
       "      <td>EE660</td>\n",
       "      <td>EE234</td>\n",
       "      <td>EE713</td>\n",
       "      <td>EE3</td>\n",
       "    </tr>\n",
       "    <tr>\n",
       "      <th>1</th>\n",
       "      <td>134070023</td>\n",
       "      <td>Manoj</td>\n",
       "      <td>EE705</td>\n",
       "      <td>EE619</td>\n",
       "      <td>EE224</td>\n",
       "      <td>EE5</td>\n",
       "    </tr>\n",
       "    <tr>\n",
       "      <th>2</th>\n",
       "      <td>134070024</td>\n",
       "      <td>Prashant</td>\n",
       "      <td>EE724</td>\n",
       "      <td>EE727</td>\n",
       "      <td>EE760</td>\n",
       "      <td>EE4</td>\n",
       "    </tr>\n",
       "    <tr>\n",
       "      <th>3</th>\n",
       "      <td>134070025</td>\n",
       "      <td>Aniket</td>\n",
       "      <td>EE112</td>\n",
       "      <td>EE112</td>\n",
       "      <td>EE112</td>\n",
       "      <td>EE1</td>\n",
       "    </tr>\n",
       "    <tr>\n",
       "      <th>4</th>\n",
       "      <td>134070026</td>\n",
       "      <td>Prasanna</td>\n",
       "      <td>EE706</td>\n",
       "      <td>EE739</td>\n",
       "      <td>EE702</td>\n",
       "      <td>EE1</td>\n",
       "    </tr>\n",
       "  </tbody>\n",
       "</table>\n",
       "</div>"
      ],
      "text/plain": [
       "      RollNo       Name Choice1 Choice2 Choice3 Specialization\n",
       "0  134070022     Harsha   EE660   EE234   EE713            EE3\n",
       "1  134070023      Manoj   EE705   EE619   EE224            EE5\n",
       "2  134070024   Prashant   EE724   EE727   EE760            EE4\n",
       "3  134070025     Aniket   EE112   EE112   EE112            EE1\n",
       "4  134070026   Prasanna   EE706   EE739   EE702            EE1"
      ]
     },
     "execution_count": 3,
     "metadata": {},
     "output_type": "execute_result"
    }
   ],
   "source": [
    "# Taking a peek at the data\n",
    "studentsDF.head()"
   ]
  },
  {
   "cell_type": "markdown",
   "metadata": {},
   "source": [
    "#### Operating on the data\n",
    "\n",
    "Now we have the data as DataFrames, which can be easily indexed to retrieve data."
   ]
  },
  {
   "cell_type": "code",
   "execution_count": 5,
   "metadata": {
    "collapsed": false
   },
   "outputs": [
    {
     "data": {
      "text/plain": [
       "RollNo            134070025\n",
       "Name                 Aniket\n",
       "Choice1               EE112\n",
       "Choice2               EE112\n",
       "Choice3               EE112\n",
       "Specialization          EE1\n",
       "Name: 3, dtype: object"
      ]
     },
     "execution_count": 5,
     "metadata": {},
     "output_type": "execute_result"
    }
   ],
   "source": [
    "# Lets slice out the 3rd students data\n",
    "studentsDF.loc[3]"
   ]
  },
  {
   "cell_type": "code",
   "execution_count": 7,
   "metadata": {
    "collapsed": false
   },
   "outputs": [
    {
     "data": {
      "text/plain": [
       "279"
      ]
     },
     "execution_count": 7,
     "metadata": {},
     "output_type": "execute_result"
    }
   ],
   "source": [
    "# Counting the number of entries in the DataFrame.\n",
    "studentCount = len(studentsDF.index)\n",
    "studentCount"
   ]
  },
  {
   "cell_type": "code",
   "execution_count": 8,
   "metadata": {
    "collapsed": false
   },
   "outputs": [
    {
     "data": {
      "text/plain": [
       "274    EE5\n",
       "275    EE4\n",
       "276    EE3\n",
       "277    EE3\n",
       "278    EE5\n",
       "Name: Specialization, dtype: object"
      ]
     },
     "execution_count": 8,
     "metadata": {},
     "output_type": "execute_result"
    }
   ],
   "source": [
    "# Extracting the Specialization of each of the students\n",
    "specializationArray = studentsDF['Specialization']\n",
    "specializationArray.tail()"
   ]
  },
  {
   "cell_type": "code",
   "execution_count": 12,
   "metadata": {
    "collapsed": false,
    "scrolled": true
   },
   "outputs": [
    {
     "data": {
      "text/plain": [
       "274    EE5\n",
       "275    EE4\n",
       "276    EE3\n",
       "277    EE3\n",
       "278    EE5\n",
       "Name: Specialization, dtype: object"
      ]
     },
     "execution_count": 12,
     "metadata": {},
     "output_type": "execute_result"
    }
   ],
   "source": [
    "# Another way to do the above\n",
    "studentsDF.Specialization.tail()"
   ]
  },
  {
   "cell_type": "markdown",
   "metadata": {},
   "source": [
    "NOTE : No need to rememeber what was the index of the column containing the 'Specialization' information unlike lists/arrays."
   ]
  },
  {
   "cell_type": "code",
   "execution_count": 13,
   "metadata": {
    "collapsed": true
   },
   "outputs": [],
   "source": [
    "# Importing a few libraries for plotting\n",
    "%matplotlib inline\n",
    "import numpy as np"
   ]
  },
  {
   "cell_type": "code",
   "execution_count": 18,
   "metadata": {
    "collapsed": false
   },
   "outputs": [
    {
     "data": {
      "text/plain": [
       "<matplotlib.axes._subplots.AxesSubplot at 0xcdb05f8>"
      ]
     },
     "execution_count": 18,
     "metadata": {},
     "output_type": "execute_result"
    },
    {
     "data": {
      "image/png": "[encoded data removed]",
      "text/plain": [
       "<matplotlib.figure.Figure at 0xaed82b0>"
      ]
     },
     "metadata": {},
     "output_type": "display_data"
    }
   ],
   "source": [
    "# Sepcialization based grouping of TAs.\n",
    "studentsDF.Specialization.value_counts().plot(kind='pie')"
   ]
  },
  {
   "cell_type": "code",
   "execution_count": 24,
   "metadata": {
    "collapsed": false
   },
   "outputs": [
    {
     "data": {
      "text/plain": [
       "count       279\n",
       "unique       50\n",
       "top       EE224\n",
       "freq         21\n",
       "Name: Choice1, dtype: object"
      ]
     },
     "execution_count": 24,
     "metadata": {},
     "output_type": "execute_result"
    }
   ],
   "source": [
    "# Quick stats on the Choice1 column of the data\n",
    "studentsDF.Choice1.describe()"
   ]
  },
  {
   "cell_type": "code",
   "execution_count": 25,
   "metadata": {
    "collapsed": false
   },
   "outputs": [
    {
     "data": {
      "text/plain": [
       "<matplotlib.axes._subplots.AxesSubplot at 0xcd8dfd0>"
      ]
     },
     "execution_count": 25,
     "metadata": {},
     "output_type": "execute_result"
    },
    {
     "data": {
      "image/png": "[encoded data removed]",
      "text/plain": [
       "<matplotlib.figure.Figure at 0xce7d240>"
      ]
     },
     "metadata": {},
     "output_type": "display_data"
    }
   ],
   "source": [
    "# Bar chart of choice1, gives popularity of a course in a way.\n",
    "studentsDF.Choice1.value_counts().plot(figsize=(20,5), kind='bar')"
   ]
  },
  {
   "cell_type": "code",
   "execution_count": 26,
   "metadata": {
    "collapsed": false
   },
   "outputs": [
    {
     "data": {
      "text/plain": [
       "<matplotlib.axes._subplots.AxesSubplot at 0xcdb0048>"
      ]
     },
     "execution_count": 26,
     "metadata": {},
     "output_type": "execute_result"
    },
    {
     "data": {
      "image/png": "[encoded data removed]",
      "text/plain": [
       "<matplotlib.figure.Figure at 0xce1eac8>"
      ]
     },
     "metadata": {},
     "output_type": "display_data"
    }
   ],
   "source": [
    "# Using Choice2\n",
    "studentsDF.Choice2.value_counts().plot(figsize=(20,5), kind='bar')"
   ]
  },
  {
   "cell_type": "code",
   "execution_count": 27,
   "metadata": {
    "collapsed": false
   },
   "outputs": [
    {
     "data": {
      "text/plain": [
       "<matplotlib.axes._subplots.AxesSubplot at 0xe0006a0>"
      ]
     },
     "execution_count": 27,
     "metadata": {},
     "output_type": "execute_result"
    },
    {
     "data": {
      "image/png": "[encoded data removed]",
      "text/plain": [
       "<matplotlib.figure.Figure at 0xe03b908>"
      ]
     },
     "metadata": {},
     "output_type": "display_data"
    }
   ],
   "source": [
    "# Using Choice3\n",
    "studentsDF.Choice3.value_counts().plot(figsize=(20,5), kind='bar')"
   ]
  },
  {
   "cell_type": "code",
   "execution_count": 28,
   "metadata": {
    "collapsed": false
   },
   "outputs": [],
   "source": [
    "# Making specialization wise dataframes.\n",
    "ee1StudentDF = studentsDF[studentsDF['Specialization'] == \"EE1\"]\n",
    "# ee2StudentDF = studentsDF[studentsDF['Specialization'] == \"EE2\"]\n",
    "# ee3StudentDF = studentsDF[studentsDF['Specialization'] == \"EE3\"]\n",
    "# ee4StudentDF = studentsDF[studentsDF['Specialization'] == \"EE4\"]\n",
    "# ee5StudentDF = studentsDF[studentsDF['Specialization'] == \"EE5\"]"
   ]
  },
  {
   "cell_type": "code",
   "execution_count": 43,
   "metadata": {
    "collapsed": false
   },
   "outputs": [
    {
     "data": {
      "text/html": [
       "<div>\n",
       "<table border=\"1\" class=\"dataframe\">\n",
       "  <thead>\n",
       "    <tr style=\"text-align: right;\">\n",
       "      <th></th>\n",
       "      <th>RollNo</th>\n",
       "      <th>Name</th>\n",
       "      <th>Choice1</th>\n",
       "      <th>Choice2</th>\n",
       "      <th>Choice3</th>\n",
       "      <th>Specialization</th>\n",
       "    </tr>\n",
       "  </thead>\n",
       "  <tbody>\n",
       "    <tr>\n",
       "      <th>3</th>\n",
       "      <td>134070025</td>\n",
       "      <td>Aniket</td>\n",
       "      <td>EE112</td>\n",
       "      <td>EE112</td>\n",
       "      <td>EE112</td>\n",
       "      <td>EE1</td>\n",
       "    </tr>\n",
       "    <tr>\n",
       "      <th>4</th>\n",
       "      <td>134070026</td>\n",
       "      <td>Prasanna</td>\n",
       "      <td>EE706</td>\n",
       "      <td>EE739</td>\n",
       "      <td>EE702</td>\n",
       "      <td>EE1</td>\n",
       "    </tr>\n",
       "    <tr>\n",
       "      <th>5</th>\n",
       "      <td>134070027</td>\n",
       "      <td>Bijja</td>\n",
       "      <td>EE706</td>\n",
       "      <td>EE328</td>\n",
       "      <td>HSS699</td>\n",
       "      <td>EE1</td>\n",
       "    </tr>\n",
       "    <tr>\n",
       "      <th>7</th>\n",
       "      <td>134070029</td>\n",
       "      <td>Ullash</td>\n",
       "      <td>EE614</td>\n",
       "      <td>EE230</td>\n",
       "      <td>EE204</td>\n",
       "      <td>EE1</td>\n",
       "    </tr>\n",
       "    <tr>\n",
       "      <th>8</th>\n",
       "      <td>134070030</td>\n",
       "      <td>Anup</td>\n",
       "      <td>EE678</td>\n",
       "      <td>EE210</td>\n",
       "      <td>EE338</td>\n",
       "      <td>EE1</td>\n",
       "    </tr>\n",
       "  </tbody>\n",
       "</table>\n",
       "</div>"
      ],
      "text/plain": [
       "      RollNo       Name Choice1 Choice2 Choice3 Specialization\n",
       "3  134070025     Aniket   EE112   EE112   EE112            EE1\n",
       "4  134070026   Prasanna   EE706   EE739   EE702            EE1\n",
       "5  134070027      Bijja   EE706   EE328  HSS699            EE1\n",
       "7  134070029     Ullash   EE614   EE230   EE204            EE1\n",
       "8  134070030       Anup   EE678   EE210   EE338            EE1"
      ]
     },
     "execution_count": 43,
     "metadata": {},
     "output_type": "execute_result"
    }
   ],
   "source": [
    "# Viewing the new EE1 dataframe\n",
    "ee1StudentDF.head()"
   ]
  },
  {
   "cell_type": "code",
   "execution_count": 31,
   "metadata": {
    "collapsed": false
   },
   "outputs": [
    {
     "data": {
      "text/plain": [
       "<matplotlib.axes._subplots.AxesSubplot at 0xe855668>"
      ]
     },
     "execution_count": 31,
     "metadata": {},
     "output_type": "execute_result"
    },
    {
     "data": {
      "image/png": "[encoded data removed]",
      "text/plain": [
       "<matplotlib.figure.Figure at 0xe01c668>"
      ]
     },
     "metadata": {},
     "output_type": "display_data"
    }
   ],
   "source": [
    "# Plotting the course popularity for choice1 among EE1 students.\n",
    "ee1StudentDF.Choice1.value_counts().plot(figsize=(10,5), kind='bar', alpha=0.5)"
   ]
  },
  {
   "cell_type": "code",
   "execution_count": 38,
   "metadata": {
    "collapsed": false
   },
   "outputs": [
    {
     "data": {
      "text/html": [
       "<div>\n",
       "<table border=\"1\" class=\"dataframe\">\n",
       "  <thead>\n",
       "    <tr style=\"text-align: right;\">\n",
       "      <th></th>\n",
       "      <th>RollNo</th>\n",
       "      <th>Name</th>\n",
       "      <th>Choice2</th>\n",
       "      <th>Choice3</th>\n",
       "      <th>Specialization</th>\n",
       "    </tr>\n",
       "    <tr>\n",
       "      <th>Choice1</th>\n",
       "      <th></th>\n",
       "      <th></th>\n",
       "      <th></th>\n",
       "      <th></th>\n",
       "      <th></th>\n",
       "    </tr>\n",
       "  </thead>\n",
       "  <tbody>\n",
       "    <tr>\n",
       "      <th>EE112</th>\n",
       "      <td>1</td>\n",
       "      <td>1</td>\n",
       "      <td>1</td>\n",
       "      <td>1</td>\n",
       "      <td>1</td>\n",
       "    </tr>\n",
       "    <tr>\n",
       "      <th>EE204</th>\n",
       "      <td>1</td>\n",
       "      <td>1</td>\n",
       "      <td>1</td>\n",
       "      <td>1</td>\n",
       "      <td>1</td>\n",
       "    </tr>\n",
       "    <tr>\n",
       "      <th>EE207</th>\n",
       "      <td>1</td>\n",
       "      <td>1</td>\n",
       "      <td>1</td>\n",
       "      <td>1</td>\n",
       "      <td>1</td>\n",
       "    </tr>\n",
       "    <tr>\n",
       "      <th>EE210</th>\n",
       "      <td>1</td>\n",
       "      <td>1</td>\n",
       "      <td>1</td>\n",
       "      <td>1</td>\n",
       "      <td>1</td>\n",
       "    </tr>\n",
       "    <tr>\n",
       "      <th>EE224</th>\n",
       "      <td>2</td>\n",
       "      <td>2</td>\n",
       "      <td>2</td>\n",
       "      <td>2</td>\n",
       "      <td>2</td>\n",
       "    </tr>\n",
       "    <tr>\n",
       "      <th>EE230</th>\n",
       "      <td>3</td>\n",
       "      <td>3</td>\n",
       "      <td>3</td>\n",
       "      <td>3</td>\n",
       "      <td>3</td>\n",
       "    </tr>\n",
       "    <tr>\n",
       "      <th>EE302</th>\n",
       "      <td>1</td>\n",
       "      <td>1</td>\n",
       "      <td>1</td>\n",
       "      <td>1</td>\n",
       "      <td>1</td>\n",
       "    </tr>\n",
       "    <tr>\n",
       "      <th>EE325</th>\n",
       "      <td>3</td>\n",
       "      <td>3</td>\n",
       "      <td>3</td>\n",
       "      <td>3</td>\n",
       "      <td>3</td>\n",
       "    </tr>\n",
       "    <tr>\n",
       "      <th>EE328</th>\n",
       "      <td>7</td>\n",
       "      <td>7</td>\n",
       "      <td>7</td>\n",
       "      <td>7</td>\n",
       "      <td>7</td>\n",
       "    </tr>\n",
       "    <tr>\n",
       "      <th>EE338</th>\n",
       "      <td>7</td>\n",
       "      <td>7</td>\n",
       "      <td>7</td>\n",
       "      <td>7</td>\n",
       "      <td>7</td>\n",
       "    </tr>\n",
       "    <tr>\n",
       "      <th>EE344</th>\n",
       "      <td>2</td>\n",
       "      <td>2</td>\n",
       "      <td>2</td>\n",
       "      <td>2</td>\n",
       "      <td>2</td>\n",
       "    </tr>\n",
       "    <tr>\n",
       "      <th>EE352</th>\n",
       "      <td>3</td>\n",
       "      <td>3</td>\n",
       "      <td>3</td>\n",
       "      <td>3</td>\n",
       "      <td>3</td>\n",
       "    </tr>\n",
       "    <tr>\n",
       "      <th>EE606</th>\n",
       "      <td>5</td>\n",
       "      <td>5</td>\n",
       "      <td>5</td>\n",
       "      <td>5</td>\n",
       "      <td>5</td>\n",
       "    </tr>\n",
       "    <tr>\n",
       "      <th>EE614</th>\n",
       "      <td>4</td>\n",
       "      <td>4</td>\n",
       "      <td>4</td>\n",
       "      <td>4</td>\n",
       "      <td>4</td>\n",
       "    </tr>\n",
       "    <tr>\n",
       "      <th>EE620</th>\n",
       "      <td>1</td>\n",
       "      <td>1</td>\n",
       "      <td>1</td>\n",
       "      <td>1</td>\n",
       "      <td>1</td>\n",
       "    </tr>\n",
       "    <tr>\n",
       "      <th>EE678</th>\n",
       "      <td>5</td>\n",
       "      <td>5</td>\n",
       "      <td>5</td>\n",
       "      <td>5</td>\n",
       "      <td>5</td>\n",
       "    </tr>\n",
       "    <tr>\n",
       "      <th>EE702</th>\n",
       "      <td>4</td>\n",
       "      <td>4</td>\n",
       "      <td>4</td>\n",
       "      <td>4</td>\n",
       "      <td>4</td>\n",
       "    </tr>\n",
       "    <tr>\n",
       "      <th>EE706</th>\n",
       "      <td>6</td>\n",
       "      <td>6</td>\n",
       "      <td>6</td>\n",
       "      <td>6</td>\n",
       "      <td>6</td>\n",
       "    </tr>\n",
       "    <tr>\n",
       "      <th>EE708</th>\n",
       "      <td>1</td>\n",
       "      <td>1</td>\n",
       "      <td>1</td>\n",
       "      <td>1</td>\n",
       "      <td>1</td>\n",
       "    </tr>\n",
       "    <tr>\n",
       "      <th>EE720</th>\n",
       "      <td>4</td>\n",
       "      <td>4</td>\n",
       "      <td>4</td>\n",
       "      <td>4</td>\n",
       "      <td>4</td>\n",
       "    </tr>\n",
       "    <tr>\n",
       "      <th>EE734</th>\n",
       "      <td>1</td>\n",
       "      <td>1</td>\n",
       "      <td>1</td>\n",
       "      <td>1</td>\n",
       "      <td>1</td>\n",
       "    </tr>\n",
       "    <tr>\n",
       "      <th>EE739</th>\n",
       "      <td>1</td>\n",
       "      <td>1</td>\n",
       "      <td>1</td>\n",
       "      <td>1</td>\n",
       "      <td>1</td>\n",
       "    </tr>\n",
       "    <tr>\n",
       "      <th>EE740</th>\n",
       "      <td>1</td>\n",
       "      <td>1</td>\n",
       "      <td>1</td>\n",
       "      <td>1</td>\n",
       "      <td>1</td>\n",
       "    </tr>\n",
       "    <tr>\n",
       "      <th>EE764</th>\n",
       "      <td>2</td>\n",
       "      <td>2</td>\n",
       "      <td>2</td>\n",
       "      <td>2</td>\n",
       "      <td>2</td>\n",
       "    </tr>\n",
       "    <tr>\n",
       "      <th>HSS699</th>\n",
       "      <td>3</td>\n",
       "      <td>3</td>\n",
       "      <td>3</td>\n",
       "      <td>3</td>\n",
       "      <td>3</td>\n",
       "    </tr>\n",
       "  </tbody>\n",
       "</table>\n",
       "</div>"
      ],
      "text/plain": [
       "         RollNo  Name  Choice2  Choice3  Specialization\n",
       "Choice1                                                \n",
       "EE112         1     1        1        1               1\n",
       "EE204         1     1        1        1               1\n",
       "EE207         1     1        1        1               1\n",
       "EE210         1     1        1        1               1\n",
       "EE224         2     2        2        2               2\n",
       "EE230         3     3        3        3               3\n",
       "EE302         1     1        1        1               1\n",
       "EE325         3     3        3        3               3\n",
       "EE328         7     7        7        7               7\n",
       "EE338         7     7        7        7               7\n",
       "EE344         2     2        2        2               2\n",
       "EE352         3     3        3        3               3\n",
       "EE606         5     5        5        5               5\n",
       "EE614         4     4        4        4               4\n",
       "EE620         1     1        1        1               1\n",
       "EE678         5     5        5        5               5\n",
       "EE702         4     4        4        4               4\n",
       "EE706         6     6        6        6               6\n",
       "EE708         1     1        1        1               1\n",
       "EE720         4     4        4        4               4\n",
       "EE734         1     1        1        1               1\n",
       "EE739         1     1        1        1               1\n",
       "EE740         1     1        1        1               1\n",
       "EE764         2     2        2        2               2\n",
       "HSS699        3     3        3        3               3"
      ]
     },
     "execution_count": 38,
     "metadata": {},
     "output_type": "execute_result"
    }
   ],
   "source": [
    "# Getting a data frame of just the EE1 students.\n",
    "ee1StudentDF.groupby('Choice1').count()"
   ]
  },
  {
   "cell_type": "code",
   "execution_count": 39,
   "metadata": {
    "collapsed": true
   },
   "outputs": [],
   "source": [
    "# Saving a file.\n",
    "ee1StudentDF.to_csv('ee1StudentPrefsLast.csv')"
   ]
  },
  {
   "cell_type": "markdown",
   "metadata": {},
   "source": [
    "NOTE : One single command, thats it!!!"
   ]
  },
  {
   "cell_type": "code",
   "execution_count": 40,
   "metadata": {
    "collapsed": false
   },
   "outputs": [
    {
     "data": {
      "text/html": [
       "<div>\n",
       "<table border=\"1\" class=\"dataframe\">\n",
       "  <thead>\n",
       "    <tr style=\"text-align: right;\">\n",
       "      <th></th>\n",
       "      <th>RollNo</th>\n",
       "      <th>Name</th>\n",
       "      <th>Choice1</th>\n",
       "      <th>Choice2</th>\n",
       "      <th>Choice3</th>\n",
       "      <th>Specialization</th>\n",
       "    </tr>\n",
       "  </thead>\n",
       "  <tbody>\n",
       "    <tr>\n",
       "      <th>128</th>\n",
       "      <td>134070150</td>\n",
       "      <td>Shreyans</td>\n",
       "      <td>EE328</td>\n",
       "      <td>EE328</td>\n",
       "      <td>EE328</td>\n",
       "      <td>EE1</td>\n",
       "    </tr>\n",
       "    <tr>\n",
       "      <th>161</th>\n",
       "      <td>134070183</td>\n",
       "      <td>Lavesh</td>\n",
       "      <td>EE352</td>\n",
       "      <td>EE352</td>\n",
       "      <td>EE344</td>\n",
       "      <td>EE1</td>\n",
       "    </tr>\n",
       "    <tr>\n",
       "      <th>162</th>\n",
       "      <td>134070184</td>\n",
       "      <td>Ankur</td>\n",
       "      <td>EE352</td>\n",
       "      <td>EE352</td>\n",
       "      <td>EE344</td>\n",
       "      <td>EE1</td>\n",
       "    </tr>\n",
       "    <tr>\n",
       "      <th>188</th>\n",
       "      <td>134070210</td>\n",
       "      <td>Varun</td>\n",
       "      <td>EE325</td>\n",
       "      <td>EE328</td>\n",
       "      <td>EE352</td>\n",
       "      <td>EE1</td>\n",
       "    </tr>\n",
       "    <tr>\n",
       "      <th>200</th>\n",
       "      <td>134070222</td>\n",
       "      <td>Soham</td>\n",
       "      <td>EE328</td>\n",
       "      <td>EE302</td>\n",
       "      <td>EE352</td>\n",
       "      <td>EE1</td>\n",
       "    </tr>\n",
       "  </tbody>\n",
       "</table>\n",
       "</div>"
      ],
      "text/plain": [
       "        RollNo       Name Choice1 Choice2 Choice3 Specialization\n",
       "128  134070150   Shreyans   EE328   EE328   EE328            EE1\n",
       "161  134070183     Lavesh   EE352   EE352   EE344            EE1\n",
       "162  134070184      Ankur   EE352   EE352   EE344            EE1\n",
       "188  134070210      Varun   EE325   EE328   EE352            EE1\n",
       "200  134070222      Soham   EE328   EE302   EE352            EE1"
      ]
     },
     "execution_count": 40,
     "metadata": {},
     "output_type": "execute_result"
    }
   ],
   "source": [
    "# Students who provided all the 3 choices as a 3rd year Course. (3xx course is a 3rd year UG course).\n",
    "ee1StudentDF[ee1StudentDF.Choice1.str.startswith('EE3') & ee1StudentDF.Choice2.str.startswith('EE3') & ee1StudentDF.Choice3.str.startswith('EE3')]"
   ]
  },
  {
   "cell_type": "code",
   "execution_count": 63,
   "metadata": {
    "collapsed": false
   },
   "outputs": [
    {
     "data": {
      "text/plain": [
       "23"
      ]
     },
     "execution_count": 63,
     "metadata": {},
     "output_type": "execute_result"
    }
   ],
   "source": [
    "# Getting the number of students preferring a 3rd year course as 1st Choice.\n",
    "(ee1StudentDF.Choice1.str.startswith('EE3')).sum()"
   ]
  },
  {
   "cell_type": "code",
   "execution_count": 62,
   "metadata": {
    "collapsed": false
   },
   "outputs": [
    {
     "data": {
      "text/plain": [
       "15"
      ]
     },
     "execution_count": 62,
     "metadata": {},
     "output_type": "execute_result"
    }
   ],
   "source": [
    "# Getting the number of students preferring a PG course as 1st Choice.\n",
    "(ee1StudentDF.Choice1.str.startswith('EE6')).sum()"
   ]
  },
  {
   "cell_type": "markdown",
   "metadata": {},
   "source": [
    "## Conclusion :\n",
    "* Huge datasets can be handled very easily and efficiently.\n",
    "* Pandas gives us a very simple and intuitive interface to deal with data.\n",
    "* Pandas is optimized for this and is hence much faster than using lists or other default python language constructs."
   ]
  },
  {
   "cell_type": "markdown",
   "metadata": {},
   "source": [
    "# THANK YOU!"
   ]
  }
 ],
 "metadata": {
  "kernelspec": {
   "display_name": "Python 2",
   "language": "python",
   "name": "python2"
  },
  "language_info": {
   "codemirror_mode": {
    "name": "ipython",
    "version": 2
   },
   "file_extension": ".py",
   "mimetype": "text/x-python",
   "name": "python",
   "nbconvert_exporter": "python",
   "pygments_lexer": "ipython2",
   "version": "2.7.10"
  }
 },
 "nbformat": 4,
 "nbformat_minor": 0
}
