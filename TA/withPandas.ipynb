{
 "cells": [
  {
   "cell_type": "markdown",
   "metadata": {},
   "source": [
    "# Doing things the Pandas Way!!!"
   ]
  },
  {
   "cell_type": "markdown",
   "metadata": {},
   "source": [
    "## Problem at hand."
   ]
  },
  {
   "cell_type": "markdown",
   "metadata": {},
   "source": [
    "Consider a set of courses running in a department of an Institute.\n",
    "The courses require a certain number of teaching assistants(TAs) for each of them.\n",
    "The Students are asked for their preferences as to which course they would like to be a TA for. How to allot courses to the students optimally?"
   ]
  },
  {
   "cell_type": "markdown",
   "metadata": {},
   "source": [
    "### Scenario"
   ]
  },
  {
   "cell_type": "markdown",
   "metadata": {},
   "source": [
    "Each course is asked for their TA requirements and each student on the other hand is asked to give 3 choices from the available courses which will be offered in the coming semester.\n",
    "\n",
    "Constraints:\n",
    "- Each student can be allotted to only one course\n",
    "- A course can only be alloted a fixed number of TAs."
   ]
  },
  {
   "cell_type": "markdown",
   "metadata": {},
   "source": [
    "### Data available"
   ]
  },
  {
   "cell_type": "markdown",
   "metadata": {},
   "source": [
    "We have available 2 files:\n",
    "- One which contains a list of students along with their choices for the course they would like to TA for.\n",
    "- The second file has a list of courses and the number of TAs requires for each of the courses."
   ]
  },
  {
   "cell_type": "markdown",
   "metadata": {},
   "source": [
    "### Lets Play!\n",
    "Lets read in the data available.\n",
    "\n",
    "Pandas make it very easy to read in CSV files into objects called 'DataFrames'."
   ]
  },
  {
   "cell_type": "code",
   "execution_count": null,
   "metadata": {
    "collapsed": false
   },
   "outputs": [],
   "source": [
    "# Import Pandas\n",
    "import pandas as pd\n",
    "# Reading in the students data.\n",
    "studentsDF = pd.read_csv('taPrefs.csv')"
   ]
  },
  {
   "cell_type": "markdown",
   "metadata": {},
   "source": [
    "THATS IT! \n",
    "\n",
    "Remember the function we wrote while dealing with lists. Duh!"
   ]
  },
  {
   "cell_type": "markdown",
   "metadata": {},
   "source": [
    "#### Viewing the data"
   ]
  },
  {
   "cell_type": "code",
   "execution_count": null,
   "metadata": {
    "collapsed": false
   },
   "outputs": [],
   "source": [
    "# Taking a peek at the data\n",
    "studentsDF.head()"
   ]
  },
  {
   "cell_type": "markdown",
   "metadata": {},
   "source": [
    "#### Operating on the data\n",
    "\n",
    "Now we have the data as DataFrames, which can be easily indexed to retrieve data."
   ]
  },
  {
   "cell_type": "code",
   "execution_count": null,
   "metadata": {
    "collapsed": false
   },
   "outputs": [],
   "source": [
    "# Lets slice out the 3rd students data\n",
    "studentsDF.loc[3]"
   ]
  },
  {
   "cell_type": "code",
   "execution_count": null,
   "metadata": {
    "collapsed": false
   },
   "outputs": [],
   "source": [
    "# Counting the number of entries in the DataFrame.\n",
    "studentCount = len(studentsDF.index)\n",
    "studentCount"
   ]
  },
  {
   "cell_type": "code",
   "execution_count": null,
   "metadata": {
    "collapsed": false
   },
   "outputs": [],
   "source": [
    "# Extracting the Specialization of each of the students\n",
    "specializationArray = studentsDF['Specialization']\n",
    "specializationArray.tail()"
   ]
  },
  {
   "cell_type": "code",
   "execution_count": null,
   "metadata": {
    "collapsed": false,
    "scrolled": true
   },
   "outputs": [],
   "source": [
    "# Another way to do the above\n",
    "studentsDF.Specialization.tail()"
   ]
  },
  {
   "cell_type": "markdown",
   "metadata": {},
   "source": [
    "NOTE : No need to rememeber what was the index of the column containing the 'Specialization' information unlike lists/arrays."
   ]
  },
  {
   "cell_type": "code",
   "execution_count": null,
   "metadata": {
    "collapsed": true
   },
   "outputs": [],
   "source": [
    "# Importing a few libraries for plotting\n",
    "%matplotlib inline\n",
    "import numpy as np"
   ]
  },
  {
   "cell_type": "code",
   "execution_count": null,
   "metadata": {
    "collapsed": false
   },
   "outputs": [],
   "source": [
    "# Sepcialization based grouping of TAs.\n",
    "studentsDF.Specialization.value_counts().plot(kind='pie')"
   ]
  },
  {
   "cell_type": "code",
   "execution_count": null,
   "metadata": {
    "collapsed": false
   },
   "outputs": [],
   "source": [
    "# Quick stats on the Choice1 column of the data\n",
    "studentsDF.Choice1.describe()"
   ]
  },
  {
   "cell_type": "code",
   "execution_count": null,
   "metadata": {
    "collapsed": false
   },
   "outputs": [],
   "source": [
    "# Bar chart of choice1, gives popularity of a course in a way.\n",
    "studentsDF.Choice1.value_counts().plot(figsize=(20,5), kind='bar')"
   ]
  },
  {
   "cell_type": "code",
   "execution_count": null,
   "metadata": {
    "collapsed": false
   },
   "outputs": [],
   "source": [
    "# Using Choice2\n",
    "studentsDF.Choice2.value_counts().plot(figsize=(20,5), kind='bar')"
   ]
  },
  {
   "cell_type": "code",
   "execution_count": null,
   "metadata": {
    "collapsed": false
   },
   "outputs": [],
   "source": [
    "# Using Choice3\n",
    "studentsDF.Choice3.value_counts().plot(figsize=(20,5), kind='bar')"
   ]
  },
  {
   "cell_type": "code",
   "execution_count": null,
   "metadata": {
    "collapsed": false
   },
   "outputs": [],
   "source": [
    "# Making specialization wise dataframes.\n",
    "ee1StudentDF = studentsDF[studentsDF['Specialization'] == \"EE1\"]\n",
    "# ee2StudentDF = studentsDF[studentsDF['Specialization'] == \"EE2\"]\n",
    "# ee3StudentDF = studentsDF[studentsDF['Specialization'] == \"EE3\"]\n",
    "# ee4StudentDF = studentsDF[studentsDF['Specialization'] == \"EE4\"]\n",
    "# ee5StudentDF = studentsDF[studentsDF['Specialization'] == \"EE5\"]"
   ]
  },
  {
   "cell_type": "code",
   "execution_count": null,
   "metadata": {
    "collapsed": false
   },
   "outputs": [],
   "source": [
    "# Viewing the new EE1 dataframe\n",
    "ee1StudentDF.head()"
   ]
  },
  {
   "cell_type": "code",
   "execution_count": null,
   "metadata": {
    "collapsed": false
   },
   "outputs": [],
   "source": [
    "# Plotting the course popularity for choice1 among EE1 students.\n",
    "ee1StudentDF.Choice1.value_counts().plot(figsize=(10,5), kind='bar', alpha=0.5)"
   ]
  },
  {
   "cell_type": "code",
   "execution_count": null,
   "metadata": {
    "collapsed": false
   },
   "outputs": [],
   "source": [
    "# Getting a data frame of just the EE1 students.\n",
    "ee1StudentDF.groupby('Choice1').count()"
   ]
  },
  {
   "cell_type": "code",
   "execution_count": null,
   "metadata": {
    "collapsed": true
   },
   "outputs": [],
   "source": [
    "# Saving a file.\n",
    "ee1StudentDF.to_csv('ee1StudentPrefsLast.csv')"
   ]
  },
  {
   "cell_type": "markdown",
   "metadata": {},
   "source": [
    "NOTE : One single command, thats it!!!"
   ]
  },
  {
   "cell_type": "code",
   "execution_count": null,
   "metadata": {
    "collapsed": false
   },
   "outputs": [],
   "source": [
    "# Students who provided all the 3 choices as a 3rd year Course. (3xx course is a 3rd year UG course).\n",
    "ee1StudentDF[ee1StudentDF.Choice1.str.startswith('EE3') & ee1StudentDF.Choice2.str.startswith('EE3') & ee1StudentDF.Choice3.str.startswith('EE3')]"
   ]
  },
  {
   "cell_type": "code",
   "execution_count": null,
   "metadata": {
    "collapsed": false
   },
   "outputs": [],
   "source": [
    "# Getting the number of students preferring a 3rd year course as 1st Choice.\n",
    "(ee1StudentDF.Choice1.str.startswith('EE3')).sum()"
   ]
  },
  {
   "cell_type": "code",
   "execution_count": null,
   "metadata": {
    "collapsed": false
   },
   "outputs": [],
   "source": [
    "# Getting the number of students preferring a PG course as 1st Choice.\n",
    "(ee1StudentDF.Choice1.str.startswith('EE6')).sum()"
   ]
  },
  {
   "cell_type": "markdown",
   "metadata": {},
   "source": [
    "## Conclusion :\n",
    "* Huge datasets can be handled very easily and efficiently.\n",
    "* Pandas gives us a very simple and intuitive interface to deal with data.\n",
    "* Pandas is optimized for this and is hence much faster than using lists or other default python language constructs."
   ]
  },
  {
   "cell_type": "markdown",
   "metadata": {},
   "source": [
    "# THANK YOU!"
   ]
  }
 ],
 "metadata": {
  "kernelspec": {
   "display_name": "Python 2",
   "language": "python",
   "name": "python2"
  },
  "language_info": {
   "codemirror_mode": {
    "name": "ipython",
    "version": 2
   },
   "file_extension": ".py",
   "mimetype": "text/x-python",
   "name": "python",
   "nbconvert_exporter": "python",
   "pygments_lexer": "ipython2",
   "version": "2.7.10"
  }
 },
 "nbformat": 4,
 "nbformat_minor": 0
}
