{
 "cells": [
  {
   "cell_type": "markdown",
   "metadata": {},
   "source": [
    "# An allotment problem using Python Lists."
   ]
  },
  {
   "cell_type": "markdown",
   "metadata": {},
   "source": [
    "## Problem at hand."
   ]
  },
  {
   "cell_type": "markdown",
   "metadata": {},
   "source": [
    "Consider a set of courses running in a department of an Institute.\n",
    "The courses require a certain number of teaching assistants(TAs) for each of them.\n",
    "The Students are asked for their preferences as to which course they would like to be a TA for. How to allot courses to the students optimally?"
   ]
  },
  {
   "cell_type": "markdown",
   "metadata": {},
   "source": [
    "## Scenario"
   ]
  },
  {
   "cell_type": "markdown",
   "metadata": {},
   "source": [
    "Each course is asked for their TA requirements and each student on the other hand is asked to give 3 choices from the available courses which will be offered in the coming semester.\n",
    "\n",
    "Constraints:\n",
    "- Each student can be allotted to only one course\n",
    "- A course can only be alloted a fixed number of TAs."
   ]
  },
  {
   "cell_type": "markdown",
   "metadata": {},
   "source": [
    "### Data available"
   ]
  },
  {
   "cell_type": "markdown",
   "metadata": {},
   "source": [
    "We have available 2 files:\n",
    "- One which contains a list of students along with their choices for the course they would like to TA for.\n",
    "- The second file has a list of courses and the number of TAs requires for each of the courses."
   ]
  },
  {
   "cell_type": "markdown",
   "metadata": {},
   "source": [
    "#### Reading in the data"
   ]
  },
  {
   "cell_type": "code",
   "execution_count": 22,
   "metadata": {
    "collapsed": false
   },
   "outputs": [],
   "source": [
    "# We define a function to read in the CSV files as lists.\n",
    "# We read in the files line by line (record by record).\n",
    "import csv\n",
    "def readFile(filename):\n",
    "    recordList = []\n",
    "    recordCount = -1\n",
    "    csvReader = csv.reader(open(filename, 'rb'))\n",
    "    for row in csvReader:\n",
    "        recordList.append(row)\n",
    "        recordCount = recordCount+1\n",
    "    return recordList, recordCount\n",
    "\n",
    "# Call the above function on students and courses data files.\n",
    "courseList, courseCount = readFile('courses.csv')\n",
    "studentList, studentCount = readFile('students.csv')"
   ]
  },
  {
   "cell_type": "markdown",
   "metadata": {},
   "source": [
    "#### Viewing the data"
   ]
  },
  {
   "cell_type": "code",
   "execution_count": 23,
   "metadata": {
    "collapsed": false
   },
   "outputs": [
    {
     "data": {
      "text/plain": [
       "[['SNo',\n",
       "  'CourseCode',\n",
       "  'CourseName',\n",
       "  'CourseSlot',\n",
       "  'CourseNeeds',\n",
       "  'runningNeeds',\n",
       "  'CourseEligiblity'],\n",
       " ['1', 'C1', 'Course Name 1', '2', '1', '1', 'EE1'],\n",
       " ['2', 'C2', 'Course Name 2', '11', '3', '4', 'EE3'],\n",
       " ['3', 'C3', 'Course Name 3', '8', '1', '5', 'EE2'],\n",
       " ['4', 'C4', 'Course Name 4', '4', '2', '7', 'EE5'],\n",
       " ['5', 'C5', 'Course Name 5', '3', '2', '9', 'EE4']]"
      ]
     },
     "execution_count": 23,
     "metadata": {},
     "output_type": "execute_result"
    }
   ],
   "source": [
    "# courseList stores the course details as list of lists\n",
    "courseList"
   ]
  },
  {
   "cell_type": "code",
   "execution_count": 17,
   "metadata": {
    "collapsed": false,
    "scrolled": true
   },
   "outputs": [
    {
     "data": {
      "text/plain": [
       "[['SNo',\n",
       "  'RollNo',\n",
       "  'Name',\n",
       "  'CPI',\n",
       "  'Score',\n",
       "  'Specialization',\n",
       "  'Choice1',\n",
       "  'Choice2',\n",
       "  'Choice3'],\n",
       " ['1', '143079029', 'S1', '8', '', 'EE4', 'C2', 'C3', 'C4'],\n",
       " ['2', '143079030', 'S2', '6', '', 'EE1', 'C1', 'C4', 'C3'],\n",
       " ['3', '143079031', 'S3', '9', '', 'EE1', 'C3', 'C1', 'C4'],\n",
       " ['4', '143079032', 'S4', '6', '', 'EE2', 'C3', 'C5', 'C2'],\n",
       " ['5', '143079033', 'S5', '8', '', 'EE3', 'C2', 'C4', 'C3'],\n",
       " ['6', '143079034', 'S6', '7', '', 'EE1', 'C5', 'C3', 'C1'],\n",
       " ['7', '143079035', 'S7', '10', '', 'EE4', 'C4', 'C3', 'C5'],\n",
       " ['8', '143079036', 'S8', '7', '', 'EE4', 'C2', 'C5', 'C3'],\n",
       " ['9', '143079037', 'S9', '9', '', 'EE5', 'C5', 'C2', 'C4'],\n",
       " ['10', '143079038', 'S10', '5', '', 'EE5', 'C3', 'C5', 'C2']]"
      ]
     },
     "execution_count": 17,
     "metadata": {},
     "output_type": "execute_result"
    }
   ],
   "source": [
    "# studentList stores the course details as list of lists\n",
    "studentList"
   ]
  },
  {
   "cell_type": "markdown",
   "metadata": {},
   "source": [
    "#### Operating on the data"
   ]
  },
  {
   "cell_type": "code",
   "execution_count": 26,
   "metadata": {
    "collapsed": false
   },
   "outputs": [
    {
     "data": {
      "text/plain": [
       "['3', 'C3', 'Course Name 3', '8', '1', '5', 'EE2']"
      ]
     },
     "execution_count": 26,
     "metadata": {},
     "output_type": "execute_result"
    }
   ],
   "source": [
    "# Now we have the data in the form of list of lists, which can be indexed for retrieving the desired element/row/col.\n",
    "# Lets have a look at all the entries in the 3rd row(list).\n",
    "courseList[3][:]"
   ]
  },
  {
   "cell_type": "code",
   "execution_count": 19,
   "metadata": {
    "collapsed": false
   },
   "outputs": [
    {
     "data": {
      "text/plain": [
       "array(['8', '6', '9', '6', '8', '7', '10', '7', '9', '5'], \n",
       "      dtype='|S14')"
      ]
     },
     "execution_count": 19,
     "metadata": {},
     "output_type": "execute_result"
    }
   ],
   "source": [
    "# Extracting the CPIs of each of the students in a vector\n",
    "import numpy as np\n",
    "studentArray = np.array(studentList)\n",
    "cpiArray = studentArray[1:,3]\n",
    "cpiArray"
   ]
  },
  {
   "cell_type": "markdown",
   "metadata": {},
   "source": [
    "Now, We Calculate the duplication matrix, which is required to duplicate the columns of stud_course_matrix as each course requires more than one TA and that is precisely the number of times we will duplicate the column corresponding to that course."
   ]
  },
  {
   "cell_type": "code",
   "execution_count": 25,
   "metadata": {
    "collapsed": false
   },
   "outputs": [
    {
     "data": {
      "text/plain": [
       "array(['1', '3', '1', '2', '2'], \n",
       "      dtype='|S16')"
      ]
     },
     "execution_count": 25,
     "metadata": {},
     "output_type": "execute_result"
    }
   ],
   "source": [
    "# Requirements of each course\n",
    "req = np.array(courseList)[1:,4]\n",
    "req"
   ]
  },
  {
   "cell_type": "markdown",
   "metadata": {},
   "source": [
    "## Conclusion :\n",
    "* Though a few small tasks are do-able, things get complicated very soon.\n",
    "* Relying only on python lists give us a very clumsy interface for handling data and processing it.\n",
    "* Arrays too do not improve the situation much.\n",
    "* A lot of intermediate casting are required from lists to arrays and vice versa."
   ]
  },
  {
   "cell_type": "markdown",
   "metadata": {},
   "source": [
    "# THANK YOU!"
   ]
  }
 ],
 "metadata": {
  "kernelspec": {
   "display_name": "Python 2",
   "language": "python",
   "name": "python2"
  },
  "language_info": {
   "codemirror_mode": {
    "name": "ipython",
    "version": 2
   },
   "file_extension": ".py",
   "mimetype": "text/x-python",
   "name": "python",
   "nbconvert_exporter": "python",
   "pygments_lexer": "ipython2",
   "version": "2.7.10"
  }
 },
 "nbformat": 4,
 "nbformat_minor": 0
}
