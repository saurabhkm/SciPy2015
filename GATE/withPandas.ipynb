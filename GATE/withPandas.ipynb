{
 "cells": [
  {
   "cell_type": "markdown",
   "metadata": {},
   "source": [
    "# Another allotment problem using Pandas."
   ]
  },
  {
   "cell_type": "markdown",
   "metadata": {},
   "source": [
    "## Problem at hand."
   ]
  },
  {
   "cell_type": "markdown",
   "metadata": {},
   "source": [
    "Consider a national level examination is to be held. The test centres are scattered across the country and each requiring a set of invigilators.\n",
    "The volunteers are required to give in a set of choices for the cities they are fine going to.\n",
    "The task is to assign a volunteer to each test centre such that each centre gets a volunteer and the volunteers are also happy."
   ]
  },
  {
   "cell_type": "markdown",
   "metadata": {},
   "source": [
    "### Scenario"
   ]
  },
  {
   "cell_type": "markdown",
   "metadata": {},
   "source": [
    "One of such All India Exams is GATE, volunteers at IIT Bombay were asked to give in a set of 10 choices of cities they are ready to go to for invigilation. GATE is held in 2 slots, i.e. 2 weekends and volunteers can also provide choices on which weekend they are ready to go for invigilation.\n",
    "\n",
    "Constraints:\n",
    "- Each volunteers can be allotted to only one invigilator post\n",
    "- A centre can only be alloted a fixed number of volunteers."
   ]
  },
  {
   "cell_type": "markdown",
   "metadata": {},
   "source": [
    "### Data available"
   ]
  },
  {
   "cell_type": "markdown",
   "metadata": {},
   "source": [
    "We have available 2 files:\n",
    "- One which contains a list of volunteers along with their choices for the centres they fine going to.\n",
    "- The second file has a list of centres and the number of invigilators required for each of them."
   ]
  },
  {
   "cell_type": "markdown",
   "metadata": {},
   "source": [
    "### Lets Play!!!\n",
    "Lets read in the data available.\n",
    "Pandas make it very easy to read in CSV files into an object called 'DataFrames'.\n"
   ]
  },
  {
   "cell_type": "code",
   "execution_count": null,
   "metadata": {
    "collapsed": false
   },
   "outputs": [],
   "source": [
    "# Import Pandas\n",
    "import pandas as pd\n",
    "# Reading in the volunteer data and taking a peek.\n",
    "volunteerDF = pd.read_csv('GATEprefs.csv')\n",
    "volunteerDF.head()"
   ]
  },
  {
   "cell_type": "code",
   "execution_count": null,
   "metadata": {
    "collapsed": false
   },
   "outputs": [],
   "source": [
    "# Now we have the data as DataFrames, which can be easily indexed to retrieve data.\n",
    "# Lets slice out the 3rd volunteers data\n",
    "volunteerDF.loc[3]"
   ]
  },
  {
   "cell_type": "code",
   "execution_count": null,
   "metadata": {
    "collapsed": false
   },
   "outputs": [],
   "source": [
    "# Counting the number of volunteers in the dataset.\n",
    "volunteerCount = len(volunteerDF.index)\n",
    "volunteerCount"
   ]
  },
  {
   "cell_type": "code",
   "execution_count": null,
   "metadata": {
    "collapsed": false
   },
   "outputs": [],
   "source": [
    "# Extracting the set of people ready to go on the first weekend.\n",
    "volunteerDF[volunteerDF['GATE_1st Weekend'] == \"yes\"].head()"
   ]
  },
  {
   "cell_type": "code",
   "execution_count": null,
   "metadata": {
    "collapsed": false
   },
   "outputs": [],
   "source": [
    "# Lets see how many people are interested in going to GOA? :P\n",
    "len(volunteerDF[volunteerDF['GATE_City1'] == \"Goa\"])"
   ]
  },
  {
   "cell_type": "code",
   "execution_count": null,
   "metadata": {
    "collapsed": true
   },
   "outputs": [],
   "source": [
    "# Importing a few libraries for plotting\n",
    "%matplotlib inline\n",
    "import numpy as np"
   ]
  },
  {
   "cell_type": "code",
   "execution_count": null,
   "metadata": {
    "collapsed": false
   },
   "outputs": [],
   "source": [
    "# Distribution of volunteers ready to go on 1st weekend\n",
    "volunteerDF['GATE_1st Weekend'].value_counts().plot(kind='pie')"
   ]
  },
  {
   "cell_type": "code",
   "execution_count": null,
   "metadata": {
    "collapsed": false
   },
   "outputs": [],
   "source": [
    "# Distribution of volunteers ready to go on 1st weekend\n",
    "volunteerDF['GATE_2nd Weekend'].value_counts().plot(kind='pie')"
   ]
  },
  {
   "cell_type": "code",
   "execution_count": null,
   "metadata": {
    "collapsed": false
   },
   "outputs": [],
   "source": [
    "# Quick stats on the first choice of volunteers.\n",
    "volunteerDF.GATE_City1.describe()"
   ]
  },
  {
   "cell_type": "code",
   "execution_count": null,
   "metadata": {
    "collapsed": false
   },
   "outputs": [],
   "source": [
    "# Bar chart of choice1, gives popularity of a city in a way.\n",
    "volunteerDF.GATE_City1.value_counts().plot(figsize=(20,5), kind='bar')"
   ]
  },
  {
   "cell_type": "code",
   "execution_count": null,
   "metadata": {
    "collapsed": false
   },
   "outputs": [],
   "source": [
    "# Using Choice2\n",
    "volunteerDF.GATE_City2.value_counts().plot(figsize=(20,5), kind='bar')"
   ]
  },
  {
   "cell_type": "code",
   "execution_count": null,
   "metadata": {
    "collapsed": false
   },
   "outputs": [],
   "source": [
    "# Making a dataframe of volunteers opting for Mumbai as their first choice.\n",
    "mumbaiVolunteersDF = volunteerDF[volunteerDF['GATE_City1'] == \"Mumbai\"]"
   ]
  },
  {
   "cell_type": "code",
   "execution_count": null,
   "metadata": {
    "collapsed": false
   },
   "outputs": [],
   "source": [
    "# Viewing the new dataframe.\n",
    "mumbaiVolunteersDF.tail()"
   ]
  },
  {
   "cell_type": "code",
   "execution_count": null,
   "metadata": {
    "collapsed": false
   },
   "outputs": [],
   "source": [
    "# Plotting the city popularity for choice2 among volunteers who opted mumbai as first choice.\n",
    "mumbaiVolunteersDF.GATE_City2.value_counts().plot(figsize=(10,5), kind='bar', alpha=0.5)"
   ]
  },
  {
   "cell_type": "code",
   "execution_count": null,
   "metadata": {
    "collapsed": false
   },
   "outputs": [],
   "source": [
    "# Making a dataframe of volunteers opting for Hyderabad as their first choice.\n",
    "hyderabadVolunteersDF = volunteerDF[volunteerDF['GATE_City1'] == \"Hyderabad\"]"
   ]
  },
  {
   "cell_type": "code",
   "execution_count": null,
   "metadata": {
    "collapsed": false
   },
   "outputs": [],
   "source": [
    "# Viewing the new dataframe.\n",
    "hyderabadVolunteersDF.tail()"
   ]
  },
  {
   "cell_type": "code",
   "execution_count": null,
   "metadata": {
    "collapsed": false
   },
   "outputs": [],
   "source": [
    "# Getting a data frame of just the EE1 students.\n",
    "hyderabadVolunteersDF.groupby('GATE_City2').count()"
   ]
  },
  {
   "cell_type": "code",
   "execution_count": null,
   "metadata": {
    "collapsed": false
   },
   "outputs": [],
   "source": [
    "# Plotting the city popularity for choice2 among volunteers who opted hyderabad as first choice.\n",
    "hyderabadVolunteersDF.GATE_City2.value_counts().plot(figsize=(10,5), kind='bar', alpha=0.5)"
   ]
  },
  {
   "cell_type": "code",
   "execution_count": null,
   "metadata": {
    "collapsed": true
   },
   "outputs": [],
   "source": [
    "# Saving a file.\n",
    "mumbaiVolunteersDF.to_csv('mumbaiVolunteersPrefs.csv')"
   ]
  },
  {
   "cell_type": "markdown",
   "metadata": {
    "collapsed": true
   },
   "source": [
    "## Conclusion :\n",
    "* Huge datasets can be handled very easily and efficiently.\n",
    "* Pandas gives us a very simple and intuitive interface to deal with data.\n",
    "* Pandas is optimized for this and is hence much faster than using lists or other default python language constructs."
   ]
  },
  {
   "cell_type": "markdown",
   "metadata": {},
   "source": [
    "# THANK YOU!"
   ]
  }
 ],
 "metadata": {
  "kernelspec": {
   "display_name": "Python 2",
   "language": "python",
   "name": "python2"
  },
  "language_info": {
   "codemirror_mode": {
    "name": "ipython",
    "version": 2
   },
   "file_extension": ".py",
   "mimetype": "text/x-python",
   "name": "python",
   "nbconvert_exporter": "python",
   "pygments_lexer": "ipython2",
   "version": "2.7.10"
  }
 },
 "nbformat": 4,
 "nbformat_minor": 0
}
