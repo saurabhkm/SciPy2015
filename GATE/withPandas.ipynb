{
 "cells": [
  {
   "cell_type": "markdown",
   "metadata": {},
   "source": [
    "# Another allotment problem using Pandas."
   ]
  },
  {
   "cell_type": "markdown",
   "metadata": {},
   "source": [
    "## Problem at hand."
   ]
  },
  {
   "cell_type": "markdown",
   "metadata": {},
   "source": [
    "Consider a national level examination is to be held. The test centres are scattered across the country and each requiring a set of invigilators.\n",
    "The volunteers are required to give in a set of choices for the cities they are fine going to.\n",
    "The task is to assign a volunteer to each test centre such that each centre gets a volunteer and the volunteers are also happy."
   ]
  },
  {
   "cell_type": "markdown",
   "metadata": {},
   "source": [
    "### Scenario"
   ]
  },
  {
   "cell_type": "markdown",
   "metadata": {},
   "source": [
    "One of such All India Exams is GATE, volunteers at IIT Bombay were asked to give in a set of 10 choices of cities they are ready to go to for invigilation. GATE is held in 2 slots, i.e. 2 weekends and volunteers can also provide choices on which weekend they are ready to go for invigilation.\n",
    "\n",
    "Constraints:\n",
    "- Each volunteers can be allotted to only one invigilator post\n",
    "- A centre can only be alloted a fixed number of volunteers."
   ]
  },
  {
   "cell_type": "markdown",
   "metadata": {},
   "source": [
    "### Data available"
   ]
  },
  {
   "cell_type": "markdown",
   "metadata": {},
   "source": [
    "We have available 2 files:\n",
    "- One which contains a list of volunteers along with their choices for the centres they fine going to.\n",
    "- The second file has a list of centres and the number of invigilators required for each of them."
   ]
  },
  {
   "cell_type": "markdown",
   "metadata": {},
   "source": [
    "### Lets Play!!!\n",
    "Lets read in the data available.\n",
    "Pandas make it very easy to read in CSV files into an object called 'DataFrames'.\n"
   ]
  },
  {
   "cell_type": "code",
   "execution_count": 76,
   "metadata": {
    "collapsed": false
   },
   "outputs": [
    {
     "data": {
      "text/html": [
       "<div>\n",
       "<table border=\"1\" class=\"dataframe\">\n",
       "  <thead>\n",
       "    <tr style=\"text-align: right;\">\n",
       "      <th></th>\n",
       "      <th>Name</th>\n",
       "      <th>Employee ID</th>\n",
       "      <th>GATE_1st Weekend</th>\n",
       "      <th>GATE_2nd Weekend</th>\n",
       "      <th>GATE_City1</th>\n",
       "      <th>GATE_City2</th>\n",
       "      <th>GATE_City3</th>\n",
       "      <th>GATE_City4</th>\n",
       "      <th>GATE_City5</th>\n",
       "      <th>GATE_City6</th>\n",
       "      <th>GATE_City7</th>\n",
       "      <th>GATE_City8</th>\n",
       "      <th>GATE_City9</th>\n",
       "      <th>GATE_City10</th>\n",
       "    </tr>\n",
       "  </thead>\n",
       "  <tbody>\n",
       "    <tr>\n",
       "      <th>0</th>\n",
       "      <td>Uthale</td>\n",
       "      <td>12040</td>\n",
       "      <td>yes</td>\n",
       "      <td>yes</td>\n",
       "      <td>Hyderabad</td>\n",
       "      <td>Goa</td>\n",
       "      <td>Bhavnagar</td>\n",
       "      <td>Amravati</td>\n",
       "      <td>Nagpur</td>\n",
       "      <td>Nanded</td>\n",
       "      <td>Ahmedabad</td>\n",
       "      <td>Jalgaon</td>\n",
       "      <td>Aurangabad</td>\n",
       "      <td>Ahmedabad</td>\n",
       "    </tr>\n",
       "    <tr>\n",
       "      <th>1</th>\n",
       "      <td>Vasant</td>\n",
       "      <td>12041</td>\n",
       "      <td>yes</td>\n",
       "      <td>yes</td>\n",
       "      <td>Hyderabad</td>\n",
       "      <td>Goa</td>\n",
       "      <td>Mehsana</td>\n",
       "      <td>Bhuj</td>\n",
       "      <td>Bhavnagar</td>\n",
       "      <td>Nanded</td>\n",
       "      <td>Gandhinagar</td>\n",
       "      <td>Nagpur</td>\n",
       "      <td>Kolhapur</td>\n",
       "      <td>Ahmedabad</td>\n",
       "    </tr>\n",
       "    <tr>\n",
       "      <th>2</th>\n",
       "      <td>Hariprasad</td>\n",
       "      <td>12042</td>\n",
       "      <td>yes</td>\n",
       "      <td>yes</td>\n",
       "      <td>Ahmedabad</td>\n",
       "      <td>Rajkot</td>\n",
       "      <td>Vadodara</td>\n",
       "      <td>Gandhinagar</td>\n",
       "      <td>Mehsana</td>\n",
       "      <td>Bhuj</td>\n",
       "      <td>Bhavnagar</td>\n",
       "      <td>Hyderabad</td>\n",
       "      <td>Ratnagiri</td>\n",
       "      <td>Secunderabad</td>\n",
       "    </tr>\n",
       "    <tr>\n",
       "      <th>3</th>\n",
       "      <td>Asmita</td>\n",
       "      <td>12043</td>\n",
       "      <td>yes</td>\n",
       "      <td>yes</td>\n",
       "      <td>Hyderabad</td>\n",
       "      <td>Surat</td>\n",
       "      <td>Ahmedabad</td>\n",
       "      <td>Goa</td>\n",
       "      <td>Nagpur</td>\n",
       "      <td>Bhavnagar</td>\n",
       "      <td>Jalgaon</td>\n",
       "      <td>Anand</td>\n",
       "      <td>Nanded</td>\n",
       "      <td>Amravati</td>\n",
       "    </tr>\n",
       "    <tr>\n",
       "      <th>4</th>\n",
       "      <td>Kiran</td>\n",
       "      <td>12044</td>\n",
       "      <td>yes</td>\n",
       "      <td>yes</td>\n",
       "      <td>Goa</td>\n",
       "      <td>Pune</td>\n",
       "      <td>Gandhinagar</td>\n",
       "      <td>Surat</td>\n",
       "      <td>Satara</td>\n",
       "      <td>Ahmednagar</td>\n",
       "      <td>Ahmedabad</td>\n",
       "      <td>Nanded</td>\n",
       "      <td>Kolhapur</td>\n",
       "      <td>Amravati</td>\n",
       "    </tr>\n",
       "  </tbody>\n",
       "</table>\n",
       "</div>"
      ],
      "text/plain": [
       "         Name  Employee ID GATE_1st Weekend GATE_2nd Weekend GATE_City1  \\\n",
       "0      Uthale        12040              yes              yes  Hyderabad   \n",
       "1      Vasant        12041              yes              yes  Hyderabad   \n",
       "2  Hariprasad        12042              yes              yes  Ahmedabad   \n",
       "3      Asmita        12043              yes              yes  Hyderabad   \n",
       "4       Kiran        12044              yes              yes        Goa   \n",
       "\n",
       "  GATE_City2   GATE_City3   GATE_City4 GATE_City5  GATE_City6   GATE_City7  \\\n",
       "0        Goa    Bhavnagar     Amravati     Nagpur      Nanded    Ahmedabad   \n",
       "1        Goa      Mehsana         Bhuj  Bhavnagar      Nanded  Gandhinagar   \n",
       "2     Rajkot     Vadodara  Gandhinagar    Mehsana        Bhuj    Bhavnagar   \n",
       "3      Surat    Ahmedabad          Goa     Nagpur   Bhavnagar      Jalgaon   \n",
       "4       Pune  Gandhinagar        Surat     Satara  Ahmednagar    Ahmedabad   \n",
       "\n",
       "  GATE_City8  GATE_City9   GATE_City10  \n",
       "0    Jalgaon  Aurangabad     Ahmedabad  \n",
       "1     Nagpur    Kolhapur     Ahmedabad  \n",
       "2  Hyderabad   Ratnagiri  Secunderabad  \n",
       "3      Anand      Nanded      Amravati  \n",
       "4     Nanded    Kolhapur      Amravati  "
      ]
     },
     "execution_count": 76,
     "metadata": {},
     "output_type": "execute_result"
    }
   ],
   "source": [
    "# Import Pandas\n",
    "import pandas as pd\n",
    "# Reading in the volunteer data and taking a peek.\n",
    "volunteerDF = pd.read_csv('GATEprefs.csv')\n",
    "volunteerDF.head()"
   ]
  },
  {
   "cell_type": "code",
   "execution_count": 77,
   "metadata": {
    "collapsed": false
   },
   "outputs": [
    {
     "data": {
      "text/plain": [
       "Name                   Asmita\n",
       "Employee ID             12043\n",
       "GATE_1st Weekend          yes\n",
       "GATE_2nd Weekend          yes\n",
       "GATE_City1          Hyderabad\n",
       "GATE_City2              Surat\n",
       "GATE_City3          Ahmedabad\n",
       "GATE_City4                Goa\n",
       "GATE_City5             Nagpur\n",
       "GATE_City6          Bhavnagar\n",
       "GATE_City7            Jalgaon\n",
       "GATE_City8              Anand\n",
       "GATE_City9             Nanded\n",
       "GATE_City10          Amravati\n",
       "Name: 3, dtype: object"
      ]
     },
     "execution_count": 77,
     "metadata": {},
     "output_type": "execute_result"
    }
   ],
   "source": [
    "# Now we have the data as DataFrames, which can be easily indexed to retrieve data.\n",
    "# Lets slice out the 3rd volunteers data\n",
    "volunteerDF.loc[3]"
   ]
  },
  {
   "cell_type": "code",
   "execution_count": 78,
   "metadata": {
    "collapsed": false
   },
   "outputs": [
    {
     "data": {
      "text/plain": [
       "654"
      ]
     },
     "execution_count": 78,
     "metadata": {},
     "output_type": "execute_result"
    }
   ],
   "source": [
    "# Counting the number of volunteers in the dataset.\n",
    "volunteerCount = len(volunteerDF.index)\n",
    "volunteerCount"
   ]
  },
  {
   "cell_type": "code",
   "execution_count": 79,
   "metadata": {
    "collapsed": false
   },
   "outputs": [
    {
     "data": {
      "text/html": [
       "<div>\n",
       "<table border=\"1\" class=\"dataframe\">\n",
       "  <thead>\n",
       "    <tr style=\"text-align: right;\">\n",
       "      <th></th>\n",
       "      <th>Name</th>\n",
       "      <th>Employee ID</th>\n",
       "      <th>GATE_1st Weekend</th>\n",
       "      <th>GATE_2nd Weekend</th>\n",
       "      <th>GATE_City1</th>\n",
       "      <th>GATE_City2</th>\n",
       "      <th>GATE_City3</th>\n",
       "      <th>GATE_City4</th>\n",
       "      <th>GATE_City5</th>\n",
       "      <th>GATE_City6</th>\n",
       "      <th>GATE_City7</th>\n",
       "      <th>GATE_City8</th>\n",
       "      <th>GATE_City9</th>\n",
       "      <th>GATE_City10</th>\n",
       "    </tr>\n",
       "  </thead>\n",
       "  <tbody>\n",
       "    <tr>\n",
       "      <th>0</th>\n",
       "      <td>Uthale</td>\n",
       "      <td>12040</td>\n",
       "      <td>yes</td>\n",
       "      <td>yes</td>\n",
       "      <td>Hyderabad</td>\n",
       "      <td>Goa</td>\n",
       "      <td>Bhavnagar</td>\n",
       "      <td>Amravati</td>\n",
       "      <td>Nagpur</td>\n",
       "      <td>Nanded</td>\n",
       "      <td>Ahmedabad</td>\n",
       "      <td>Jalgaon</td>\n",
       "      <td>Aurangabad</td>\n",
       "      <td>Ahmedabad</td>\n",
       "    </tr>\n",
       "    <tr>\n",
       "      <th>1</th>\n",
       "      <td>Vasant</td>\n",
       "      <td>12041</td>\n",
       "      <td>yes</td>\n",
       "      <td>yes</td>\n",
       "      <td>Hyderabad</td>\n",
       "      <td>Goa</td>\n",
       "      <td>Mehsana</td>\n",
       "      <td>Bhuj</td>\n",
       "      <td>Bhavnagar</td>\n",
       "      <td>Nanded</td>\n",
       "      <td>Gandhinagar</td>\n",
       "      <td>Nagpur</td>\n",
       "      <td>Kolhapur</td>\n",
       "      <td>Ahmedabad</td>\n",
       "    </tr>\n",
       "    <tr>\n",
       "      <th>2</th>\n",
       "      <td>Hariprasad</td>\n",
       "      <td>12042</td>\n",
       "      <td>yes</td>\n",
       "      <td>yes</td>\n",
       "      <td>Ahmedabad</td>\n",
       "      <td>Rajkot</td>\n",
       "      <td>Vadodara</td>\n",
       "      <td>Gandhinagar</td>\n",
       "      <td>Mehsana</td>\n",
       "      <td>Bhuj</td>\n",
       "      <td>Bhavnagar</td>\n",
       "      <td>Hyderabad</td>\n",
       "      <td>Ratnagiri</td>\n",
       "      <td>Secunderabad</td>\n",
       "    </tr>\n",
       "    <tr>\n",
       "      <th>3</th>\n",
       "      <td>Asmita</td>\n",
       "      <td>12043</td>\n",
       "      <td>yes</td>\n",
       "      <td>yes</td>\n",
       "      <td>Hyderabad</td>\n",
       "      <td>Surat</td>\n",
       "      <td>Ahmedabad</td>\n",
       "      <td>Goa</td>\n",
       "      <td>Nagpur</td>\n",
       "      <td>Bhavnagar</td>\n",
       "      <td>Jalgaon</td>\n",
       "      <td>Anand</td>\n",
       "      <td>Nanded</td>\n",
       "      <td>Amravati</td>\n",
       "    </tr>\n",
       "    <tr>\n",
       "      <th>4</th>\n",
       "      <td>Kiran</td>\n",
       "      <td>12044</td>\n",
       "      <td>yes</td>\n",
       "      <td>yes</td>\n",
       "      <td>Goa</td>\n",
       "      <td>Pune</td>\n",
       "      <td>Gandhinagar</td>\n",
       "      <td>Surat</td>\n",
       "      <td>Satara</td>\n",
       "      <td>Ahmednagar</td>\n",
       "      <td>Ahmedabad</td>\n",
       "      <td>Nanded</td>\n",
       "      <td>Kolhapur</td>\n",
       "      <td>Amravati</td>\n",
       "    </tr>\n",
       "  </tbody>\n",
       "</table>\n",
       "</div>"
      ],
      "text/plain": [
       "         Name  Employee ID GATE_1st Weekend GATE_2nd Weekend GATE_City1  \\\n",
       "0      Uthale        12040              yes              yes  Hyderabad   \n",
       "1      Vasant        12041              yes              yes  Hyderabad   \n",
       "2  Hariprasad        12042              yes              yes  Ahmedabad   \n",
       "3      Asmita        12043              yes              yes  Hyderabad   \n",
       "4       Kiran        12044              yes              yes        Goa   \n",
       "\n",
       "  GATE_City2   GATE_City3   GATE_City4 GATE_City5  GATE_City6   GATE_City7  \\\n",
       "0        Goa    Bhavnagar     Amravati     Nagpur      Nanded    Ahmedabad   \n",
       "1        Goa      Mehsana         Bhuj  Bhavnagar      Nanded  Gandhinagar   \n",
       "2     Rajkot     Vadodara  Gandhinagar    Mehsana        Bhuj    Bhavnagar   \n",
       "3      Surat    Ahmedabad          Goa     Nagpur   Bhavnagar      Jalgaon   \n",
       "4       Pune  Gandhinagar        Surat     Satara  Ahmednagar    Ahmedabad   \n",
       "\n",
       "  GATE_City8  GATE_City9   GATE_City10  \n",
       "0    Jalgaon  Aurangabad     Ahmedabad  \n",
       "1     Nagpur    Kolhapur     Ahmedabad  \n",
       "2  Hyderabad   Ratnagiri  Secunderabad  \n",
       "3      Anand      Nanded      Amravati  \n",
       "4     Nanded    Kolhapur      Amravati  "
      ]
     },
     "execution_count": 79,
     "metadata": {},
     "output_type": "execute_result"
    }
   ],
   "source": [
    "# Extracting the set of people ready to go on the first weekend.\n",
    "volunteerDF[volunteerDF['GATE_1st Weekend'] == \"yes\"].head()"
   ]
  },
  {
   "cell_type": "code",
   "execution_count": 80,
   "metadata": {
    "collapsed": false
   },
   "outputs": [
    {
     "data": {
      "text/plain": [
       "79"
      ]
     },
     "execution_count": 80,
     "metadata": {},
     "output_type": "execute_result"
    }
   ],
   "source": [
    "# Lets see how many people are interested in going to GOA? :P\n",
    "len(volunteerDF[volunteerDF['GATE_City1'] == \"Goa\"])"
   ]
  },
  {
   "cell_type": "code",
   "execution_count": 81,
   "metadata": {
    "collapsed": true
   },
   "outputs": [],
   "source": [
    "# Importing a few libraries for plotting\n",
    "%matplotlib inline\n",
    "import numpy as np"
   ]
  },
  {
   "cell_type": "code",
   "execution_count": 97,
   "metadata": {
    "collapsed": false
   },
   "outputs": [
    {
     "data": {
      "text/plain": [
       "<matplotlib.axes._subplots.AxesSubplot at 0x13a6dda0>"
      ]
     },
     "execution_count": 97,
     "metadata": {},
     "output_type": "execute_result"
    },
    {
     "data": {
      "image/png": "[encoded data removed]",
      "text/plain": [
       "<matplotlib.figure.Figure at 0x133f8160>"
      ]
     },
     "metadata": {},
     "output_type": "display_data"
    }
   ],
   "source": [
    "# Distribution of volunteers ready to go on 1st weekend\n",
    "volunteerDF['GATE_1st Weekend'].value_counts().plot(kind='pie')"
   ]
  },
  {
   "cell_type": "code",
   "execution_count": 83,
   "metadata": {
    "collapsed": false
   },
   "outputs": [
    {
     "data": {
      "text/plain": [
       "<matplotlib.axes._subplots.AxesSubplot at 0x129c1400>"
      ]
     },
     "execution_count": 83,
     "metadata": {},
     "output_type": "execute_result"
    },
    {
     "data": {
      "image/png": "[encoded data removed]",
      "text/plain": [
       "<matplotlib.figure.Figure at 0x1281a400>"
      ]
     },
     "metadata": {},
     "output_type": "display_data"
    }
   ],
   "source": [
    "# Distribution of volunteers ready to go on 1st weekend\n",
    "volunteerDF['GATE_2nd Weekend'].value_counts().plot(kind='pie')"
   ]
  },
  {
   "cell_type": "code",
   "execution_count": 84,
   "metadata": {
    "collapsed": false
   },
   "outputs": [
    {
     "data": {
      "text/plain": [
       "count           654\n",
       "unique           28\n",
       "top       Hyderabad\n",
       "freq            115\n",
       "Name: GATE_City1, dtype: object"
      ]
     },
     "execution_count": 84,
     "metadata": {},
     "output_type": "execute_result"
    }
   ],
   "source": [
    "# Quick stats on the first choice of volunteers.\n",
    "volunteerDF.GATE_City1.describe()"
   ]
  },
  {
   "cell_type": "code",
   "execution_count": 85,
   "metadata": {
    "collapsed": false
   },
   "outputs": [
    {
     "data": {
      "text/plain": [
       "<matplotlib.axes._subplots.AxesSubplot at 0x127ef198>"
      ]
     },
     "execution_count": 85,
     "metadata": {},
     "output_type": "execute_result"
    },
    {
     "data": {
      "image/png": "[encoded data removed]",
      "text/plain": [
       "<matplotlib.figure.Figure at 0x11b6a2e8>"
      ]
     },
     "metadata": {},
     "output_type": "display_data"
    }
   ],
   "source": [
    "# Bar chart of choice1, gives popularity of a city in a way.\n",
    "volunteerDF.GATE_City1.value_counts().plot(figsize=(20,5), kind='bar')"
   ]
  },
  {
   "cell_type": "code",
   "execution_count": 86,
   "metadata": {
    "collapsed": false
   },
   "outputs": [
    {
     "data": {
      "text/plain": [
       "<matplotlib.axes._subplots.AxesSubplot at 0x12f00358>"
      ]
     },
     "execution_count": 86,
     "metadata": {},
     "output_type": "execute_result"
    },
    {
     "data": {
      "image/png": "[encoded data removed]",
      "text/plain": [
       "<matplotlib.figure.Figure at 0x11fef3c8>"
      ]
     },
     "metadata": {},
     "output_type": "display_data"
    }
   ],
   "source": [
    "# Using Choice2\n",
    "volunteerDF.GATE_City2.value_counts().plot(figsize=(20,5), kind='bar')"
   ]
  },
  {
   "cell_type": "code",
   "execution_count": 87,
   "metadata": {
    "collapsed": false
   },
   "outputs": [],
   "source": [
    "# Making a dataframe of volunteers opting for Mumbai as their first choice.\n",
    "mumbaiVolunteersDF = volunteerDF[volunteerDF['GATE_City1'] == \"Mumbai\"]"
   ]
  },
  {
   "cell_type": "code",
   "execution_count": 88,
   "metadata": {
    "collapsed": false
   },
   "outputs": [
    {
     "data": {
      "text/html": [
       "<div>\n",
       "<table border=\"1\" class=\"dataframe\">\n",
       "  <thead>\n",
       "    <tr style=\"text-align: right;\">\n",
       "      <th></th>\n",
       "      <th>Name</th>\n",
       "      <th>Employee ID</th>\n",
       "      <th>GATE_1st Weekend</th>\n",
       "      <th>GATE_2nd Weekend</th>\n",
       "      <th>GATE_City1</th>\n",
       "      <th>GATE_City2</th>\n",
       "      <th>GATE_City3</th>\n",
       "      <th>GATE_City4</th>\n",
       "      <th>GATE_City5</th>\n",
       "      <th>GATE_City6</th>\n",
       "      <th>GATE_City7</th>\n",
       "      <th>GATE_City8</th>\n",
       "      <th>GATE_City9</th>\n",
       "      <th>GATE_City10</th>\n",
       "    </tr>\n",
       "  </thead>\n",
       "  <tbody>\n",
       "    <tr>\n",
       "      <th>602</th>\n",
       "      <td>Abhishek</td>\n",
       "      <td>12642</td>\n",
       "      <td>yes</td>\n",
       "      <td>no</td>\n",
       "      <td>Mumbai</td>\n",
       "      <td>Navi Mumbai</td>\n",
       "      <td>Thane</td>\n",
       "      <td>NaN</td>\n",
       "      <td>NaN</td>\n",
       "      <td>NaN</td>\n",
       "      <td>NaN</td>\n",
       "      <td>NaN</td>\n",
       "      <td>NaN</td>\n",
       "      <td>NaN</td>\n",
       "    </tr>\n",
       "    <tr>\n",
       "      <th>625</th>\n",
       "      <td>Nilesh</td>\n",
       "      <td>12665</td>\n",
       "      <td>yes</td>\n",
       "      <td>no</td>\n",
       "      <td>Mumbai</td>\n",
       "      <td>Navi Mumbai</td>\n",
       "      <td>Thane</td>\n",
       "      <td>NaN</td>\n",
       "      <td>NaN</td>\n",
       "      <td>NaN</td>\n",
       "      <td>NaN</td>\n",
       "      <td>NaN</td>\n",
       "      <td>NaN</td>\n",
       "      <td>NaN</td>\n",
       "    </tr>\n",
       "    <tr>\n",
       "      <th>627</th>\n",
       "      <td>Umesh</td>\n",
       "      <td>12667</td>\n",
       "      <td>no</td>\n",
       "      <td>yes</td>\n",
       "      <td>Mumbai</td>\n",
       "      <td>Mumbai</td>\n",
       "      <td>Mumbai</td>\n",
       "      <td>Mumbai</td>\n",
       "      <td>Mumbai</td>\n",
       "      <td>Mumbai</td>\n",
       "      <td>Mumbai</td>\n",
       "      <td>Mumbai</td>\n",
       "      <td>Mumbai</td>\n",
       "      <td>Mumbai</td>\n",
       "    </tr>\n",
       "    <tr>\n",
       "      <th>634</th>\n",
       "      <td>Nutan</td>\n",
       "      <td>12674</td>\n",
       "      <td>yes</td>\n",
       "      <td>yes</td>\n",
       "      <td>Mumbai</td>\n",
       "      <td>Navi Mumbai</td>\n",
       "      <td>Thane</td>\n",
       "      <td>Hyderabad</td>\n",
       "      <td>Mumbai</td>\n",
       "      <td>Navi Mumbai</td>\n",
       "      <td>Thane</td>\n",
       "      <td>Mumbai</td>\n",
       "      <td>Navi Mumbai</td>\n",
       "      <td>Thane</td>\n",
       "    </tr>\n",
       "    <tr>\n",
       "      <th>652</th>\n",
       "      <td>Dr</td>\n",
       "      <td>12692</td>\n",
       "      <td>yes</td>\n",
       "      <td>yes</td>\n",
       "      <td>Mumbai</td>\n",
       "      <td>Mumbai</td>\n",
       "      <td>Mumbai</td>\n",
       "      <td>Mumbai</td>\n",
       "      <td>Mumbai</td>\n",
       "      <td>Mumbai</td>\n",
       "      <td>Mumbai</td>\n",
       "      <td>Mumbai</td>\n",
       "      <td>Mumbai</td>\n",
       "      <td>Mumbai</td>\n",
       "    </tr>\n",
       "  </tbody>\n",
       "</table>\n",
       "</div>"
      ],
      "text/plain": [
       "         Name  Employee ID GATE_1st Weekend GATE_2nd Weekend GATE_City1  \\\n",
       "602  Abhishek        12642              yes               no     Mumbai   \n",
       "625    Nilesh        12665              yes               no     Mumbai   \n",
       "627     Umesh        12667               no              yes     Mumbai   \n",
       "634     Nutan        12674              yes              yes     Mumbai   \n",
       "652        Dr        12692              yes              yes     Mumbai   \n",
       "\n",
       "      GATE_City2 GATE_City3 GATE_City4 GATE_City5   GATE_City6 GATE_City7  \\\n",
       "602  Navi Mumbai      Thane        NaN        NaN          NaN        NaN   \n",
       "625  Navi Mumbai      Thane        NaN        NaN          NaN        NaN   \n",
       "627       Mumbai     Mumbai     Mumbai     Mumbai       Mumbai     Mumbai   \n",
       "634  Navi Mumbai      Thane  Hyderabad     Mumbai  Navi Mumbai      Thane   \n",
       "652       Mumbai     Mumbai     Mumbai     Mumbai       Mumbai     Mumbai   \n",
       "\n",
       "    GATE_City8   GATE_City9 GATE_City10  \n",
       "602        NaN          NaN         NaN  \n",
       "625        NaN          NaN         NaN  \n",
       "627     Mumbai       Mumbai      Mumbai  \n",
       "634     Mumbai  Navi Mumbai       Thane  \n",
       "652     Mumbai       Mumbai      Mumbai  "
      ]
     },
     "execution_count": 88,
     "metadata": {},
     "output_type": "execute_result"
    }
   ],
   "source": [
    "# Viewing the new dataframe.\n",
    "mumbaiVolunteersDF.tail()"
   ]
  },
  {
   "cell_type": "code",
   "execution_count": 89,
   "metadata": {
    "collapsed": false
   },
   "outputs": [
    {
     "data": {
      "text/plain": [
       "<matplotlib.axes._subplots.AxesSubplot at 0x1323e0f0>"
      ]
     },
     "execution_count": 89,
     "metadata": {},
     "output_type": "execute_result"
    },
    {
     "data": {
      "image/png": "[encoded data removed]",
      "text/plain": [
       "<matplotlib.figure.Figure at 0x11b6a4a8>"
      ]
     },
     "metadata": {},
     "output_type": "display_data"
    }
   ],
   "source": [
    "# Plotting the city popularity for choice2 among volunteers who opted mumbai as first choice.\n",
    "mumbaiVolunteersDF.GATE_City2.value_counts().plot(figsize=(10,5), kind='bar', alpha=0.5)"
   ]
  },
  {
   "cell_type": "code",
   "execution_count": 90,
   "metadata": {
    "collapsed": false
   },
   "outputs": [],
   "source": [
    "# Making a dataframe of volunteers opting for Hyderabad as their first choice.\n",
    "hyderabadVolunteersDF = volunteerDF[volunteerDF['GATE_City1'] == \"Hyderabad\"]"
   ]
  },
  {
   "cell_type": "code",
   "execution_count": 91,
   "metadata": {
    "collapsed": false
   },
   "outputs": [
    {
     "data": {
      "text/html": [
       "<div>\n",
       "<table border=\"1\" class=\"dataframe\">\n",
       "  <thead>\n",
       "    <tr style=\"text-align: right;\">\n",
       "      <th></th>\n",
       "      <th>Name</th>\n",
       "      <th>Employee ID</th>\n",
       "      <th>GATE_1st Weekend</th>\n",
       "      <th>GATE_2nd Weekend</th>\n",
       "      <th>GATE_City1</th>\n",
       "      <th>GATE_City2</th>\n",
       "      <th>GATE_City3</th>\n",
       "      <th>GATE_City4</th>\n",
       "      <th>GATE_City5</th>\n",
       "      <th>GATE_City6</th>\n",
       "      <th>GATE_City7</th>\n",
       "      <th>GATE_City8</th>\n",
       "      <th>GATE_City9</th>\n",
       "      <th>GATE_City10</th>\n",
       "    </tr>\n",
       "  </thead>\n",
       "  <tbody>\n",
       "    <tr>\n",
       "      <th>617</th>\n",
       "      <td>Priya</td>\n",
       "      <td>12657</td>\n",
       "      <td>yes</td>\n",
       "      <td>yes</td>\n",
       "      <td>Hyderabad</td>\n",
       "      <td>Secunderabad</td>\n",
       "      <td>Solapur</td>\n",
       "      <td>Goa</td>\n",
       "      <td>Aurangabad</td>\n",
       "      <td>Pune</td>\n",
       "      <td>Nagpur</td>\n",
       "      <td>Ahmedabad</td>\n",
       "      <td>Gandhinagar</td>\n",
       "      <td>Any city</td>\n",
       "    </tr>\n",
       "    <tr>\n",
       "      <th>619</th>\n",
       "      <td>Geeta</td>\n",
       "      <td>12659</td>\n",
       "      <td>yes</td>\n",
       "      <td>yes</td>\n",
       "      <td>Hyderabad</td>\n",
       "      <td>Aurangabad</td>\n",
       "      <td>Nagpur</td>\n",
       "      <td>Ahmedabad</td>\n",
       "      <td>Secunderabad</td>\n",
       "      <td>Goa</td>\n",
       "      <td>Gandhinagar</td>\n",
       "      <td>Rajkot</td>\n",
       "      <td>Pune</td>\n",
       "      <td>Nashik</td>\n",
       "    </tr>\n",
       "    <tr>\n",
       "      <th>631</th>\n",
       "      <td>Pradeep</td>\n",
       "      <td>12671</td>\n",
       "      <td>no</td>\n",
       "      <td>yes</td>\n",
       "      <td>Hyderabad</td>\n",
       "      <td>Kolhapur</td>\n",
       "      <td>Solapur</td>\n",
       "      <td>Nagpur</td>\n",
       "      <td>Pune</td>\n",
       "      <td>Goa</td>\n",
       "      <td>Nashik</td>\n",
       "      <td>Bhavnagar</td>\n",
       "      <td>Bhuj</td>\n",
       "      <td>Aurangabad</td>\n",
       "    </tr>\n",
       "    <tr>\n",
       "      <th>648</th>\n",
       "      <td>Archana</td>\n",
       "      <td>12688</td>\n",
       "      <td>yes</td>\n",
       "      <td>yes</td>\n",
       "      <td>Hyderabad</td>\n",
       "      <td>Secunderabad</td>\n",
       "      <td>NaN</td>\n",
       "      <td>NaN</td>\n",
       "      <td>NaN</td>\n",
       "      <td>NaN</td>\n",
       "      <td>NaN</td>\n",
       "      <td>NaN</td>\n",
       "      <td>NaN</td>\n",
       "      <td>NaN</td>\n",
       "    </tr>\n",
       "    <tr>\n",
       "      <th>651</th>\n",
       "      <td>Pillai</td>\n",
       "      <td>12691</td>\n",
       "      <td>no</td>\n",
       "      <td>yes</td>\n",
       "      <td>Hyderabad</td>\n",
       "      <td>NaN</td>\n",
       "      <td>NaN</td>\n",
       "      <td>NaN</td>\n",
       "      <td>NaN</td>\n",
       "      <td>NaN</td>\n",
       "      <td>NaN</td>\n",
       "      <td>NaN</td>\n",
       "      <td>NaN</td>\n",
       "      <td>NaN</td>\n",
       "    </tr>\n",
       "  </tbody>\n",
       "</table>\n",
       "</div>"
      ],
      "text/plain": [
       "        Name  Employee ID GATE_1st Weekend GATE_2nd Weekend GATE_City1  \\\n",
       "617    Priya        12657              yes              yes  Hyderabad   \n",
       "619    Geeta        12659              yes              yes  Hyderabad   \n",
       "631  Pradeep        12671               no              yes  Hyderabad   \n",
       "648  Archana        12688              yes              yes  Hyderabad   \n",
       "651   Pillai        12691               no              yes  Hyderabad   \n",
       "\n",
       "       GATE_City2 GATE_City3 GATE_City4    GATE_City5 GATE_City6   GATE_City7  \\\n",
       "617  Secunderabad    Solapur        Goa    Aurangabad       Pune       Nagpur   \n",
       "619    Aurangabad     Nagpur  Ahmedabad  Secunderabad        Goa  Gandhinagar   \n",
       "631      Kolhapur    Solapur     Nagpur          Pune        Goa       Nashik   \n",
       "648  Secunderabad        NaN        NaN           NaN        NaN          NaN   \n",
       "651           NaN        NaN        NaN           NaN        NaN          NaN   \n",
       "\n",
       "    GATE_City8   GATE_City9 GATE_City10  \n",
       "617  Ahmedabad  Gandhinagar    Any city  \n",
       "619     Rajkot         Pune      Nashik  \n",
       "631  Bhavnagar         Bhuj  Aurangabad  \n",
       "648        NaN          NaN         NaN  \n",
       "651        NaN          NaN         NaN  "
      ]
     },
     "execution_count": 91,
     "metadata": {},
     "output_type": "execute_result"
    }
   ],
   "source": [
    "# Viewing the new dataframe.\n",
    "hyderabadVolunteersDF.tail()"
   ]
  },
  {
   "cell_type": "code",
   "execution_count": 92,
   "metadata": {
    "collapsed": false
   },
   "outputs": [
    {
     "data": {
      "text/html": [
       "<div>\n",
       "<table border=\"1\" class=\"dataframe\">\n",
       "  <thead>\n",
       "    <tr style=\"text-align: right;\">\n",
       "      <th></th>\n",
       "      <th>Name</th>\n",
       "      <th>Employee ID</th>\n",
       "      <th>GATE_1st Weekend</th>\n",
       "      <th>GATE_2nd Weekend</th>\n",
       "      <th>GATE_City1</th>\n",
       "      <th>GATE_City3</th>\n",
       "      <th>GATE_City4</th>\n",
       "      <th>GATE_City5</th>\n",
       "      <th>GATE_City6</th>\n",
       "      <th>GATE_City7</th>\n",
       "      <th>GATE_City8</th>\n",
       "      <th>GATE_City9</th>\n",
       "      <th>GATE_City10</th>\n",
       "    </tr>\n",
       "    <tr>\n",
       "      <th>GATE_City2</th>\n",
       "      <th></th>\n",
       "      <th></th>\n",
       "      <th></th>\n",
       "      <th></th>\n",
       "      <th></th>\n",
       "      <th></th>\n",
       "      <th></th>\n",
       "      <th></th>\n",
       "      <th></th>\n",
       "      <th></th>\n",
       "      <th></th>\n",
       "      <th></th>\n",
       "      <th></th>\n",
       "    </tr>\n",
       "  </thead>\n",
       "  <tbody>\n",
       "    <tr>\n",
       "      <th>Ahmedabad</th>\n",
       "      <td>11</td>\n",
       "      <td>11</td>\n",
       "      <td>11</td>\n",
       "      <td>11</td>\n",
       "      <td>11</td>\n",
       "      <td>11</td>\n",
       "      <td>10</td>\n",
       "      <td>7</td>\n",
       "      <td>7</td>\n",
       "      <td>7</td>\n",
       "      <td>7</td>\n",
       "      <td>6</td>\n",
       "      <td>6</td>\n",
       "    </tr>\n",
       "    <tr>\n",
       "      <th>Amravati</th>\n",
       "      <td>1</td>\n",
       "      <td>1</td>\n",
       "      <td>1</td>\n",
       "      <td>1</td>\n",
       "      <td>1</td>\n",
       "      <td>1</td>\n",
       "      <td>1</td>\n",
       "      <td>1</td>\n",
       "      <td>1</td>\n",
       "      <td>1</td>\n",
       "      <td>1</td>\n",
       "      <td>1</td>\n",
       "      <td>1</td>\n",
       "    </tr>\n",
       "    <tr>\n",
       "      <th>Aurangabad</th>\n",
       "      <td>6</td>\n",
       "      <td>6</td>\n",
       "      <td>6</td>\n",
       "      <td>6</td>\n",
       "      <td>6</td>\n",
       "      <td>6</td>\n",
       "      <td>6</td>\n",
       "      <td>6</td>\n",
       "      <td>5</td>\n",
       "      <td>5</td>\n",
       "      <td>5</td>\n",
       "      <td>4</td>\n",
       "      <td>5</td>\n",
       "    </tr>\n",
       "    <tr>\n",
       "      <th>Bhavnagar</th>\n",
       "      <td>2</td>\n",
       "      <td>2</td>\n",
       "      <td>2</td>\n",
       "      <td>2</td>\n",
       "      <td>2</td>\n",
       "      <td>1</td>\n",
       "      <td>1</td>\n",
       "      <td>1</td>\n",
       "      <td>1</td>\n",
       "      <td>1</td>\n",
       "      <td>1</td>\n",
       "      <td>1</td>\n",
       "      <td>1</td>\n",
       "    </tr>\n",
       "    <tr>\n",
       "      <th>Bhuj</th>\n",
       "      <td>1</td>\n",
       "      <td>1</td>\n",
       "      <td>1</td>\n",
       "      <td>1</td>\n",
       "      <td>1</td>\n",
       "      <td>1</td>\n",
       "      <td>1</td>\n",
       "      <td>1</td>\n",
       "      <td>1</td>\n",
       "      <td>1</td>\n",
       "      <td>1</td>\n",
       "      <td>1</td>\n",
       "      <td>1</td>\n",
       "    </tr>\n",
       "    <tr>\n",
       "      <th>Goa</th>\n",
       "      <td>21</td>\n",
       "      <td>21</td>\n",
       "      <td>21</td>\n",
       "      <td>21</td>\n",
       "      <td>21</td>\n",
       "      <td>20</td>\n",
       "      <td>20</td>\n",
       "      <td>20</td>\n",
       "      <td>20</td>\n",
       "      <td>18</td>\n",
       "      <td>17</td>\n",
       "      <td>17</td>\n",
       "      <td>16</td>\n",
       "    </tr>\n",
       "    <tr>\n",
       "      <th>Jalgaon</th>\n",
       "      <td>1</td>\n",
       "      <td>1</td>\n",
       "      <td>1</td>\n",
       "      <td>1</td>\n",
       "      <td>1</td>\n",
       "      <td>1</td>\n",
       "      <td>1</td>\n",
       "      <td>1</td>\n",
       "      <td>1</td>\n",
       "      <td>1</td>\n",
       "      <td>1</td>\n",
       "      <td>1</td>\n",
       "      <td>1</td>\n",
       "    </tr>\n",
       "    <tr>\n",
       "      <th>Kolhapur</th>\n",
       "      <td>3</td>\n",
       "      <td>3</td>\n",
       "      <td>3</td>\n",
       "      <td>3</td>\n",
       "      <td>3</td>\n",
       "      <td>3</td>\n",
       "      <td>3</td>\n",
       "      <td>3</td>\n",
       "      <td>3</td>\n",
       "      <td>3</td>\n",
       "      <td>3</td>\n",
       "      <td>3</td>\n",
       "      <td>3</td>\n",
       "    </tr>\n",
       "    <tr>\n",
       "      <th>Mehsana</th>\n",
       "      <td>1</td>\n",
       "      <td>1</td>\n",
       "      <td>1</td>\n",
       "      <td>1</td>\n",
       "      <td>1</td>\n",
       "      <td>1</td>\n",
       "      <td>1</td>\n",
       "      <td>1</td>\n",
       "      <td>1</td>\n",
       "      <td>1</td>\n",
       "      <td>1</td>\n",
       "      <td>1</td>\n",
       "      <td>1</td>\n",
       "    </tr>\n",
       "    <tr>\n",
       "      <th>Mumbai</th>\n",
       "      <td>1</td>\n",
       "      <td>1</td>\n",
       "      <td>1</td>\n",
       "      <td>1</td>\n",
       "      <td>1</td>\n",
       "      <td>1</td>\n",
       "      <td>1</td>\n",
       "      <td>1</td>\n",
       "      <td>1</td>\n",
       "      <td>0</td>\n",
       "      <td>0</td>\n",
       "      <td>0</td>\n",
       "      <td>0</td>\n",
       "    </tr>\n",
       "    <tr>\n",
       "      <th>Nagpur</th>\n",
       "      <td>7</td>\n",
       "      <td>7</td>\n",
       "      <td>7</td>\n",
       "      <td>7</td>\n",
       "      <td>7</td>\n",
       "      <td>7</td>\n",
       "      <td>7</td>\n",
       "      <td>7</td>\n",
       "      <td>6</td>\n",
       "      <td>6</td>\n",
       "      <td>6</td>\n",
       "      <td>6</td>\n",
       "      <td>6</td>\n",
       "    </tr>\n",
       "    <tr>\n",
       "      <th>Nanded</th>\n",
       "      <td>1</td>\n",
       "      <td>1</td>\n",
       "      <td>1</td>\n",
       "      <td>1</td>\n",
       "      <td>1</td>\n",
       "      <td>1</td>\n",
       "      <td>1</td>\n",
       "      <td>1</td>\n",
       "      <td>1</td>\n",
       "      <td>1</td>\n",
       "      <td>1</td>\n",
       "      <td>1</td>\n",
       "      <td>1</td>\n",
       "    </tr>\n",
       "    <tr>\n",
       "      <th>Nashik</th>\n",
       "      <td>1</td>\n",
       "      <td>1</td>\n",
       "      <td>1</td>\n",
       "      <td>1</td>\n",
       "      <td>1</td>\n",
       "      <td>1</td>\n",
       "      <td>0</td>\n",
       "      <td>0</td>\n",
       "      <td>0</td>\n",
       "      <td>0</td>\n",
       "      <td>0</td>\n",
       "      <td>0</td>\n",
       "      <td>0</td>\n",
       "    </tr>\n",
       "    <tr>\n",
       "      <th>Pune</th>\n",
       "      <td>4</td>\n",
       "      <td>4</td>\n",
       "      <td>4</td>\n",
       "      <td>4</td>\n",
       "      <td>4</td>\n",
       "      <td>4</td>\n",
       "      <td>2</td>\n",
       "      <td>2</td>\n",
       "      <td>2</td>\n",
       "      <td>1</td>\n",
       "      <td>1</td>\n",
       "      <td>1</td>\n",
       "      <td>1</td>\n",
       "    </tr>\n",
       "    <tr>\n",
       "      <th>Rajkot</th>\n",
       "      <td>7</td>\n",
       "      <td>7</td>\n",
       "      <td>7</td>\n",
       "      <td>7</td>\n",
       "      <td>7</td>\n",
       "      <td>7</td>\n",
       "      <td>6</td>\n",
       "      <td>6</td>\n",
       "      <td>6</td>\n",
       "      <td>6</td>\n",
       "      <td>5</td>\n",
       "      <td>5</td>\n",
       "      <td>5</td>\n",
       "    </tr>\n",
       "    <tr>\n",
       "      <th>Ratnagiri</th>\n",
       "      <td>2</td>\n",
       "      <td>2</td>\n",
       "      <td>2</td>\n",
       "      <td>2</td>\n",
       "      <td>2</td>\n",
       "      <td>2</td>\n",
       "      <td>2</td>\n",
       "      <td>2</td>\n",
       "      <td>2</td>\n",
       "      <td>2</td>\n",
       "      <td>2</td>\n",
       "      <td>2</td>\n",
       "      <td>2</td>\n",
       "    </tr>\n",
       "    <tr>\n",
       "      <th>Secunderabad</th>\n",
       "      <td>36</td>\n",
       "      <td>36</td>\n",
       "      <td>36</td>\n",
       "      <td>36</td>\n",
       "      <td>36</td>\n",
       "      <td>35</td>\n",
       "      <td>32</td>\n",
       "      <td>31</td>\n",
       "      <td>27</td>\n",
       "      <td>24</td>\n",
       "      <td>23</td>\n",
       "      <td>21</td>\n",
       "      <td>21</td>\n",
       "    </tr>\n",
       "    <tr>\n",
       "      <th>Surat</th>\n",
       "      <td>3</td>\n",
       "      <td>3</td>\n",
       "      <td>3</td>\n",
       "      <td>3</td>\n",
       "      <td>3</td>\n",
       "      <td>3</td>\n",
       "      <td>3</td>\n",
       "      <td>3</td>\n",
       "      <td>3</td>\n",
       "      <td>3</td>\n",
       "      <td>3</td>\n",
       "      <td>3</td>\n",
       "      <td>3</td>\n",
       "    </tr>\n",
       "    <tr>\n",
       "      <th>Vadodara</th>\n",
       "      <td>4</td>\n",
       "      <td>4</td>\n",
       "      <td>4</td>\n",
       "      <td>4</td>\n",
       "      <td>4</td>\n",
       "      <td>3</td>\n",
       "      <td>3</td>\n",
       "      <td>3</td>\n",
       "      <td>1</td>\n",
       "      <td>1</td>\n",
       "      <td>1</td>\n",
       "      <td>1</td>\n",
       "      <td>1</td>\n",
       "    </tr>\n",
       "  </tbody>\n",
       "</table>\n",
       "</div>"
      ],
      "text/plain": [
       "              Name  Employee ID  GATE_1st Weekend  GATE_2nd Weekend  \\\n",
       "GATE_City2                                                            \n",
       "Ahmedabad       11           11                11                11   \n",
       "Amravati         1            1                 1                 1   \n",
       "Aurangabad       6            6                 6                 6   \n",
       "Bhavnagar        2            2                 2                 2   \n",
       "Bhuj             1            1                 1                 1   \n",
       "Goa             21           21                21                21   \n",
       "Jalgaon          1            1                 1                 1   \n",
       "Kolhapur         3            3                 3                 3   \n",
       "Mehsana          1            1                 1                 1   \n",
       "Mumbai           1            1                 1                 1   \n",
       "Nagpur           7            7                 7                 7   \n",
       "Nanded           1            1                 1                 1   \n",
       "Nashik           1            1                 1                 1   \n",
       "Pune             4            4                 4                 4   \n",
       "Rajkot           7            7                 7                 7   \n",
       "Ratnagiri        2            2                 2                 2   \n",
       "Secunderabad    36           36                36                36   \n",
       "Surat            3            3                 3                 3   \n",
       "Vadodara         4            4                 4                 4   \n",
       "\n",
       "              GATE_City1  GATE_City3  GATE_City4  GATE_City5  GATE_City6  \\\n",
       "GATE_City2                                                                 \n",
       "Ahmedabad             11          11          10           7           7   \n",
       "Amravati               1           1           1           1           1   \n",
       "Aurangabad             6           6           6           6           5   \n",
       "Bhavnagar              2           1           1           1           1   \n",
       "Bhuj                   1           1           1           1           1   \n",
       "Goa                   21          20          20          20          20   \n",
       "Jalgaon                1           1           1           1           1   \n",
       "Kolhapur               3           3           3           3           3   \n",
       "Mehsana                1           1           1           1           1   \n",
       "Mumbai                 1           1           1           1           1   \n",
       "Nagpur                 7           7           7           7           6   \n",
       "Nanded                 1           1           1           1           1   \n",
       "Nashik                 1           1           0           0           0   \n",
       "Pune                   4           4           2           2           2   \n",
       "Rajkot                 7           7           6           6           6   \n",
       "Ratnagiri              2           2           2           2           2   \n",
       "Secunderabad          36          35          32          31          27   \n",
       "Surat                  3           3           3           3           3   \n",
       "Vadodara               4           3           3           3           1   \n",
       "\n",
       "              GATE_City7  GATE_City8  GATE_City9  GATE_City10  \n",
       "GATE_City2                                                     \n",
       "Ahmedabad              7           7           6            6  \n",
       "Amravati               1           1           1            1  \n",
       "Aurangabad             5           5           4            5  \n",
       "Bhavnagar              1           1           1            1  \n",
       "Bhuj                   1           1           1            1  \n",
       "Goa                   18          17          17           16  \n",
       "Jalgaon                1           1           1            1  \n",
       "Kolhapur               3           3           3            3  \n",
       "Mehsana                1           1           1            1  \n",
       "Mumbai                 0           0           0            0  \n",
       "Nagpur                 6           6           6            6  \n",
       "Nanded                 1           1           1            1  \n",
       "Nashik                 0           0           0            0  \n",
       "Pune                   1           1           1            1  \n",
       "Rajkot                 6           5           5            5  \n",
       "Ratnagiri              2           2           2            2  \n",
       "Secunderabad          24          23          21           21  \n",
       "Surat                  3           3           3            3  \n",
       "Vadodara               1           1           1            1  "
      ]
     },
     "execution_count": 92,
     "metadata": {},
     "output_type": "execute_result"
    }
   ],
   "source": [
    "# Getting a data frame of just the EE1 students.\n",
    "hyderabadVolunteersDF.groupby('GATE_City2').count()"
   ]
  },
  {
   "cell_type": "code",
   "execution_count": 93,
   "metadata": {
    "collapsed": false
   },
   "outputs": [
    {
     "data": {
      "text/plain": [
       "<matplotlib.axes._subplots.AxesSubplot at 0x134898d0>"
      ]
     },
     "execution_count": 93,
     "metadata": {},
     "output_type": "execute_result"
    },
    {
     "data": {
      "image/png": "[encoded data removed]",
      "text/plain": [
       "<matplotlib.figure.Figure at 0x13136588>"
      ]
     },
     "metadata": {},
     "output_type": "display_data"
    }
   ],
   "source": [
    "# Plotting the city popularity for choice2 among volunteers who opted hyderabad as first choice.\n",
    "hyderabadVolunteersDF.GATE_City2.value_counts().plot(figsize=(10,5), kind='bar', alpha=0.5)"
   ]
  },
  {
   "cell_type": "code",
   "execution_count": 94,
   "metadata": {
    "collapsed": true
   },
   "outputs": [],
   "source": [
    "# Saving a file.\n",
    "mumbaiVolunteersDF.to_csv('mumbaiVolunteersPrefs.csv')"
   ]
  },
  {
   "cell_type": "markdown",
   "metadata": {
    "collapsed": true
   },
   "source": [
    "## Conclusion :\n",
    "* Huge datasets can be handled very easily and efficiently.\n",
    "* Pandas gives us a very simple and intuitive interface to deal with data.\n",
    "* Pandas is optimized for this and is hence much faster than using lists or other default python language constructs."
   ]
  },
  {
   "cell_type": "markdown",
   "metadata": {},
   "source": [
    "# THANK YOU!"
   ]
  }
 ],
 "metadata": {
  "kernelspec": {
   "display_name": "Python 2",
   "language": "python",
   "name": "python2"
  },
  "language_info": {
   "codemirror_mode": {
    "name": "ipython",
    "version": 2
   },
   "file_extension": ".py",
   "mimetype": "text/x-python",
   "name": "python",
   "nbconvert_exporter": "python",
   "pygments_lexer": "ipython2",
   "version": "2.7.10"
  }
 },
 "nbformat": 4,
 "nbformat_minor": 0
}
